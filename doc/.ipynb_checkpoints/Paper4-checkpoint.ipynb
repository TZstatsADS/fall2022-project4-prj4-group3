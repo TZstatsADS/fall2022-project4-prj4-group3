{
 "cells": [
  {
   "cell_type": "code",
   "execution_count": 1,
   "id": "3610c16b",
   "metadata": {
    "scrolled": true
   },
   "outputs": [],
   "source": [
    "import pandas as pd\n",
    "import numpy as np\n",
    "import pickle\n",
    "import scipy.optimize as optim\n",
    "from sklearn import preprocessing\n",
    "from sklearn.model_selection import train_test_split\n",
    "from sklearn import feature_extraction\n",
    "from __future__ import division\n",
    "import os,sys\n",
    "import numpy as np\n",
    "import pandas as pd\n",
    "from collections import defaultdict\n",
    "from random import seed, shuffle\n",
    "from collections import defaultdict\n",
    "from copy import deepcopy\n",
    "import numpy.core.multiarray\n",
    "import cvxpy as cvx\n",
    "import dccp\n",
    "from dccp.problem import is_dccp\n",
    "import traceback\n",
    "import matplotlib.pylab as plt"
   ]
  },
  {
   "cell_type": "code",
   "execution_count": 2,
   "id": "d805ea52",
   "metadata": {
    "scrolled": true
   },
   "outputs": [],
   "source": [
    "import time\n",
    "start_dm = time.time()"
   ]
  },
  {
   "cell_type": "code",
   "execution_count": 3,
   "id": "959241b6",
   "metadata": {
    "scrolled": true
   },
   "outputs": [],
   "source": [
    "df = pd.read_csv('../data/compas-scores-two-years.csv')\n",
    "df['length_of_stay']=df['c_jail_out'].apply(pd.to_datetime) - df['c_jail_in'].apply(pd.to_datetime)\n",
    "df['length_of_stay']=df['length_of_stay'].dt.days\n",
    "df['length_of_stay'] = df.length_of_stay.apply(lambda x:'greater than 100 days'  if x >100 else ('10-100 days' if x >10 else 'less than 10 days'))\n"
   ]
  },
  {
   "cell_type": "code",
   "execution_count": 4,
   "id": "d4b78868",
   "metadata": {
    "scrolled": true
   },
   "outputs": [],
   "source": [
    "#Selecting features\n",
    "features = [\"age_cat\", \"race\", \"sex\", \"priors_count\", \"c_charge_degree\",\"length_of_stay\",\"decile_score\"] \n",
    "cont_feature = [\"priors_count\"] \n",
    "sensitive_attributes = [\"race\"]\n",
    "\n",
    "x_control = defaultdict(list)\n",
    "data=df.copy()\n",
    "\n",
    "# Data Filtering\n",
    "idx = np.where((data['days_b_screening_arrest']<=30) & (data['days_b_screening_arrest']>=-30)\n",
    " & (data['is_recid']!=-1) & (data['c_charge_degree']!=\"O\") & (data['score_text']!=\"N/A\") &\n",
    " ((data['race']==\"African-American\") |(data['race']==\"Caucasian\")))\n",
    "data=data.iloc[idx]\n",
    "\n",
    "\n",
    "# convert class label 0 to -1\n",
    "y = data['two_year_recid']\n",
    "y[y==0] = -1\n",
    "\n",
    "#adding intercept\n",
    "intercept = np.ones(data.shape[0]).reshape(data.shape[0], 1)\n",
    "X=pd.DataFrame(intercept, columns=['intercept'])\n",
    "\n",
    "\n",
    "feature_names = []\n",
    "for attr in features:\n",
    "    vals = data[attr]\n",
    "    if attr in cont_feature:\n",
    "        vals = [float(v) for v in vals]\n",
    "        vals = preprocessing.scale(vals) #makes it into a 0 mean and variance 1\n",
    "        vals = np.reshape(vals, (len(y), -1))\n",
    "      \n",
    "    else: \n",
    "        lb = preprocessing.LabelBinarizer()\n",
    "        lb.fit(vals)\n",
    "        vals = lb.transform(vals)\n",
    "\n",
    "   \n",
    "# Creating list called feature_names which contains column names\n",
    "    # Checking continuous features\n",
    "    if attr in cont_feature: \n",
    "        feature_names.append(attr)\n",
    "    #Checking categorical features\n",
    "    else: \n",
    "        # Binary features\n",
    "        if vals.shape[1] == 1: \n",
    "            feature_names.append(attr)\n",
    "        #Non Binary features - adding the names for every category\n",
    "        else:\n",
    "            for k in lb.classes_: \n",
    "                feature_names.append(attr + \"_\" + str(k))\n",
    "    \n",
    "    X[feature_names]=vals\n",
    "    feature_names=[]\n",
    "\n",
    "\n",
    "    \n",
    "# Splitting the data into train and test\n",
    "from sklearn.model_selection import train_test_split\n",
    "x_train, x_test, y_train, y_test = train_test_split(X, y, test_size=0.5, random_state=1,shuffle=True)\n",
    "x_control_train=x_train[sensitive_attributes]\n",
    "x_control_test =x_test[sensitive_attributes]\n",
    "feature_names= x_train.columns\n",
    "x_train,x_test, y_train, y_test,x_control_train,x_control_test=x_train.values,x_test.values, y_train.values, y_test.values,x_control_train.values,x_control_test.values#converting everything to an array\n",
    "\n",
    "#Making x_control_train and x_control_test into a dictionary \n",
    "x_control_train={sensitive_attributes[0]:x_control_train.flatten()}\n",
    "x_control_test={sensitive_attributes[0]:x_control_test.flatten()}\n"
   ]
  },
  {
   "cell_type": "code",
   "execution_count": 5,
   "id": "39324c04",
   "metadata": {
    "scrolled": true
   },
   "outputs": [],
   "source": [
    "def train_model(x, y, x_control, EPS, cons_params,tau, mu):\n",
    "\n",
    "    max_iters = 100 \n",
    "    max_iter_dccp = 50  \n",
    "\n",
    "    num_points, num_features = x.shape\n",
    "    w = cvx.Variable(num_features) \n",
    "    np.random.seed(0)\n",
    "    w.value = np.random.rand(x.shape[1])\n",
    "    loss = cvx.sum(  cvx.logistic( cvx.multiply(-y, x*w) )  ) / num_points # Using Logistic Classifier\n",
    "    \n",
    "    #loss =  cvx.sum(cvx.logistic(x @ w) - cvx.multiply(y, x @ w) )\n",
    "    constraints = []\n",
    "    if cons_params is not None: \n",
    " \n",
    "        for attribute in cons_params[\"sensitive_attrs_to_cov_thresh\"].keys():\n",
    "\n",
    "            attribute_list = x_control_train[attribute]\n",
    "\n",
    "            s_val_to_total = {param:{} for param in [0,1,2]} \n",
    "            s_val_to_avg = {param:{} for param in [0,1,2]}\n",
    "            cons_sum_dict = {param:{} for param in [0,1,2]} \n",
    "\n",
    "            for val in set(attribute_list):\n",
    "                s_val_to_total[0][val] = sum(x_control_train[attribute] == val)\n",
    "                s_val_to_total[1][val] = sum(np.logical_and(x_control_train[attribute] == val, y_train == -1)) \n",
    "                s_val_to_total[2][val] = sum(np.logical_and(x_control_train[attribute] == val, y_train == +1))\n",
    "\n",
    "\n",
    "            for param in [0,1,2]:\n",
    "                s_val_to_avg[param][0] = s_val_to_total[param][1] / float(s_val_to_total[param][0] + s_val_to_total[param][1]) \n",
    "                s_val_to_avg[param][1] = 1.0 - s_val_to_avg[param][0] \n",
    "\n",
    "\n",
    "            for v in set(attribute_list):\n",
    "\n",
    "                idx = x_control_train[attribute] == v                \n",
    "\n",
    "\n",
    "                #################################################################\n",
    "                # #DCCP constraints\n",
    "                dist_bound_prod = cvx.multiply(y_train[idx], x_train[idx] * w) # y.f(x)\n",
    "\n",
    "                cons_sum_dict[0][v] = cvx.sum( cvx.minimum(0, dist_bound_prod) ) * (s_val_to_avg[0][v] / len(x_train)) # avg misclassification distance from boundary\n",
    "                cons_sum_dict[1][v] = cvx.sum( cvx.minimum(0, cvx.multiply( (1 - y_train[idx])/2.0, dist_bound_prod) ) ) * (s_val_to_avg[1][v] / sum(y_train == -1)) # avg false positive distance from boundary (only operates on the ground truth neg dataset)\n",
    "                cons_sum_dict[2][v] = cvx.sum( cvx.minimum(0, cvx.multiply( (1 + y_train[idx])/2.0, dist_bound_prod) ) ) * (s_val_to_avg[2][v] / sum(y_train == +1)) # avg false negative distance from boundary\n",
    "                #################################################################\n",
    "\n",
    "\n",
    "            if cons_params[\"cons_type\"] == 4:\n",
    "                params = [1,2]\n",
    "            elif cons_params[\"cons_type\"] in [0,1,2]:\n",
    "                params = [cons_params[\"cons_type\"]]\n",
    "\n",
    "\n",
    "            #################################################################\n",
    "            for param in params:\n",
    "                threshold = abs(cons_params[\"sensitive_attrs_to_cov_thresh\"][attribute][param][1] - cons_params[\"sensitive_attrs_to_cov_thresh\"][attribute][param][0])\n",
    "                constraints.append( cons_sum_dict[param][1] <= cons_sum_dict[param][0]  + threshold )\n",
    "                constraints.append( cons_sum_dict[param][1] >= cons_sum_dict[param][0]  - threshold )\n",
    "\n",
    "            #################################################################\n",
    "        \n",
    "    if cons_params is not None:\n",
    "        if cons_params.get(\"take_initial_sol\") is None: # true by default\n",
    "            take_initial_sol = True\n",
    "        elif cons_params[\"take_initial_sol\"] == False:\n",
    "            take_initial_sol = False\n",
    "\n",
    "        if take_initial_sol == True: # get the initial solution\n",
    "            p = cvx.Problem(cvx.Minimize(loss), [])\n",
    "            p.solve()\n",
    "    prob = cvx.Problem(cvx.Minimize(loss), constraints)\n",
    "    \n",
    "    try:\n",
    "\n",
    "        prob.solve(method='dccp', tau=tau, mu=mu, tau_max=1e10,\n",
    "            solver='ECOS', verbose=False, \n",
    "            feastol=EPS, abstol=EPS, reltol=EPS,feastol_inacc=EPS, abstol_inacc=EPS, reltol_inacc=EPS,\n",
    "            max_iters=max_iters, max_iter=max_iter_dccp)\n",
    "\n",
    "\n",
    "    except:\n",
    "        traceback.print_exc()\n",
    "        sys.stdout.flush()\n",
    "        sys.exit(1)\n",
    "\n",
    "\n",
    "    # check that the fairness constraint is satisfied\n",
    "    for f_c in constraints:\n",
    "       # assert(f_c.value == True) # can comment this out if the solver fails too often, but make sure that the constraints are satisfied empirically. alternatively, consider increasing tau parameter\n",
    "        pass\n",
    "        \n",
    "\n",
    "    w = np.array(w.value).flatten() # flatten converts it to a 1d array\n",
    "    \n",
    "    return w\n"
   ]
  },
  {
   "cell_type": "code",
   "execution_count": 6,
   "id": "af66d704",
   "metadata": {
    "scrolled": true
   },
   "outputs": [],
   "source": [
    "def sensitive_features(y_true, y_pred, x_control, sensitive_attributes, flag ):\n",
    "\n",
    "    x_control_internal = deepcopy(x_control)\n",
    "\n",
    "    data_dictionary = {}\n",
    "    \n",
    "    s = sensitive_attributes[0]\n",
    "\n",
    "    s_vals = x_control_internal[s]\n",
    "    for s_type in set(s_vals):\n",
    "        data_dictionary[s_type] = {}\n",
    "        y_true_local = y_true[s_vals==s_type]\n",
    "        y_pred_local = y_pred[s_vals==s_type]\n",
    "\n",
    "        acc = float(sum(y_true_local==y_pred_local)) / len(y_true_local)\n",
    "\n",
    "        fp = sum(np.logical_and(y_true_local == -1.0, y_pred_local == +1.0))\n",
    "        fn = sum(np.logical_and(y_true_local == +1.0, y_pred_local == -1.0)) \n",
    "        tp = sum(np.logical_and(y_true_local == +1.0, y_pred_local == +1.0)) \n",
    "        tn = sum(np.logical_and(y_true_local == -1.0, y_pred_local == -1.0)) \n",
    "\n",
    "        all_neg = sum(y_true_local == -1.0)\n",
    "        all_pos = sum(y_true_local == +1.0)\n",
    "\n",
    "        fpr = float(fp) / float(fp + tn)\n",
    "        fnr = float(fn) / float(fn + tp)\n",
    "        tpr = float(tp) / float(tp + fn)\n",
    "        tnr = float(tn) / float(tn + fp)\n",
    "\n",
    "\n",
    "        data_dictionary[s_type][\"fp\"] = fp\n",
    "        data_dictionary[s_type][\"fn\"] = fn\n",
    "        data_dictionary[s_type][\"fpr\"] = fpr\n",
    "        data_dictionary[s_type][\"fnr\"] = fnr\n",
    "        data_dictionary[s_type][\"acc\"] = (tp + tn) / (tp + tn + fp + fn)\n",
    "        \n",
    "    return data_dictionary\n",
    "\n"
   ]
  },
  {
   "cell_type": "code",
   "execution_count": 7,
   "id": "73de0793",
   "metadata": {
    "scrolled": true
   },
   "outputs": [],
   "source": [
    "def check_accuracy(x_train, y_train, x_test, y_test, y_train_predicted, y_test_predicted):\n",
    "\n",
    "\n",
    "    correct_answers = (y_train_predicted == y_train).astype(int) \n",
    "    train_score = float(sum(correct_answers)) / float(len(correct_answers))\n",
    "    correct_answers_train = sum(correct_answers)\n",
    "    \n",
    "    \n",
    "    correct_answers = (y_test_predicted == y_test).astype(int)\n",
    "    test_score = float(sum(correct_answers)) / float(len(correct_answers))\n",
    "    correct_answers_test = sum(correct_answers)\n",
    "\n",
    "    return train_score, test_score, correct_answers_train, correct_answers_test\n"
   ]
  },
  {
   "cell_type": "code",
   "execution_count": 8,
   "id": "f81a5485",
   "metadata": {
    "scrolled": true
   },
   "outputs": [],
   "source": [
    "def distance_boundary(w, x, s_attr_arr):\n",
    "\n",
    "    distances_boundary = np.zeros(x.shape[0])\n",
    "    if isinstance(w, dict): \n",
    "        for k in w.keys(): \n",
    "            d = np.dot(x, w[k])\n",
    "            distances_boundary[s_attr_arr == k] = d[s_attr_arr == k]\n",
    "    else: \n",
    "        distances_boundary = np.dot(x, w)\n",
    "    return distances_boundary\n"
   ]
  },
  {
   "cell_type": "code",
   "execution_count": 9,
   "id": "acc87e17",
   "metadata": {
    "scrolled": true
   },
   "outputs": [],
   "source": [
    "def classification_stats(w, x_train, y_train, x_control_train, x_test, y_test, x_control_test, sensitive_attributes):\n",
    "\n",
    "    s_val = sensitive_attributes[0] \n",
    "\n",
    "    distances_boundary_train = distance_boundary(w, x_train, x_control_train[s_val])\n",
    "    distances_boundary_test = distance_boundary(w, x_test, x_control_test[s_val])\n",
    "\n",
    "    all_class_labels_assigned_train = np.sign(distances_boundary_train)\n",
    "    all_class_labels_assigned_test = np.sign(distances_boundary_test)\n",
    "\n",
    "    train_score, test_score, correct_answers_train, correct_answers_test = check_accuracy( x_train, y_train, x_test, y_test, all_class_labels_assigned_train, all_class_labels_assigned_test)\n",
    "\n",
    "    data_dictionary_train = sensitive_features(y_train, all_class_labels_assigned_train, x_control_train, sensitive_attributes, False)\n",
    "    \n",
    "    data_dictionary_test = sensitive_features(y_test, all_class_labels_assigned_test, x_control_test, sensitive_attributes, True)\n",
    "\n",
    "    return train_score, test_score, data_dictionary_train, data_dictionary_test\n",
    "\n"
   ]
  },
  {
   "cell_type": "code",
   "execution_count": 10,
   "id": "858d8853",
   "metadata": {
    "scrolled": true
   },
   "outputs": [],
   "source": [
    "def classifier(EPS,tau,mu,cons_params):\n",
    "    \n",
    "    w = train_model(x_train, y_train, x_control_train, EPS, cons_params,tau, mu)\n",
    "    \n",
    "    train_score, test_score, data_dictionary_train, data_dictionary_test = classification_stats(w, x_train, y_train, x_control_train, x_test, y_test, x_control_test, sensitive_attributes)\n",
    "    \n",
    "    return w, test_score, data_dictionary_test\n"
   ]
  },
  {
   "cell_type": "code",
   "execution_count": 11,
   "id": "13e3f879",
   "metadata": {
    "scrolled": true
   },
   "outputs": [],
   "source": [
    "def accuracy_1(threshold, flag): \n",
    "    cons_type = 0 # No constraint \n",
    "    sensitive_attrs_to_cov_thresh = {\"race\": {0:{0:0, 1:threshold}, 1:{0:0, 1:0}, 2:{0:0, 1:0}}} # zero covariance threshold, means try to get the fairest solution\n",
    "    cons_params = {\"cons_type\": cons_type, \"tau\": tau, \"mu\": mu, \"sensitive_attrs_to_cov_thresh\": sensitive_attrs_to_cov_thresh}\n",
    "    w_uncons, acc_cons, data_dictionary = classifier(EPS,tau,mu,cons_params)\n",
    "    if flag == True:\n",
    "        print(\"Unconstrained classifier\")\n",
    "        print(\"Accuracy:  \" + str(round(acc_cons,2)))\n",
    "        print(\"s     FPR.    FNR\")\n",
    "        for key in data_dictionary:\n",
    "            print(\"------------------------\")\n",
    "            print(str(key) + \"     \" + str(round(data_dictionary[key]['fpr'],2)) + \"    \" +str(round(data_dictionary[key]['fnr'],2)))\n",
    "        print()\n",
    "    \n",
    "    return acc_cons, abs(data_dictionary[0]['fpr']-data_dictionary[1]['fpr']) , abs(data_dictionary[0]['fnr']-data_dictionary[1]['fnr']) \n",
    "    "
   ]
  },
  {
   "cell_type": "code",
   "execution_count": 12,
   "id": "68db922c",
   "metadata": {
    "scrolled": true
   },
   "outputs": [],
   "source": [
    "def accuracy_2(threshold, flag):\n",
    "    cons_type = 1 # FPR constraint\n",
    "    sensitive_attrs_to_cov_thresh = {\"race\": {0:{0:0, 1:0}, 1:{0:0, 1:threshold}, 2:{0:0, 1:0}}} # zero covariance threshold, means try to get the fairest solution\n",
    "    cons_params = {\"cons_type\": cons_type, \"tau\": tau, \"mu\": mu, \"sensitive_attrs_to_cov_thresh\": sensitive_attrs_to_cov_thresh}\n",
    "    w_cons, acc_cons, data_dictionary  = classifier(EPS,tau,mu,cons_params)\n",
    "    if flag == True:\n",
    "        print(\"Constraints on FPR\")\n",
    "        print(\"Accuracy:  \" + str(round(acc_cons,2)))\n",
    "        print(\"s     FPR.    FNR\")\n",
    "        for key in data_dictionary:\n",
    "            print(\"------------------------\")\n",
    "            print(str(key) + \"     \" + str(round(data_dictionary[key]['fpr'],2)) + \"    \" +str(round(data_dictionary[key]['fnr'],2)))\n",
    "        print()\n",
    "    \n",
    "    return acc_cons, abs(data_dictionary[0]['fpr']-data_dictionary[1]['fpr']) , abs(data_dictionary[0]['fnr']-data_dictionary[1]['fnr']) \n",
    "    "
   ]
  },
  {
   "cell_type": "code",
   "execution_count": 13,
   "id": "b46f1ba4",
   "metadata": {
    "scrolled": true
   },
   "outputs": [],
   "source": [
    "def accuracy_3(threshold, flag):\n",
    "    cons_type = 2 # FNR constraint \n",
    "    sensitive_attrs_to_cov_thresh = {\"race\": {0:{0:0, 1:0}, 1:{0:0, 1:0}, 2:{0:0, 1:threshold}}} # zero covariance threshold, means try to get the fairest solution\n",
    "    cons_params = {\"cons_type\": cons_type, \"tau\": tau, \"mu\": mu, \"sensitive_attrs_to_cov_thresh\": sensitive_attrs_to_cov_thresh}\n",
    "    w_cons, acc_cons, data_dictionary  = classifier(EPS,tau,mu,cons_params)\n",
    "    if flag == True:\n",
    "        print(\"Constraints on FNR\")\n",
    "        print(\"Accuracy:  \" + str(round(acc_cons,2)))\n",
    "        print(\"s     FPR.    FNR\")\n",
    "        for key in data_dictionary:\n",
    "            print(\"------------------------\")\n",
    "            print(str(key) + \"     \" + str(round(data_dictionary[key]['fpr'],2)) + \"    \" +str(round(data_dictionary[key]['fnr'],2)))\n",
    "        print()\n",
    "    \n",
    "    return acc_cons, abs(data_dictionary[0]['fpr']-data_dictionary[1]['fpr']) , abs(data_dictionary[0]['fnr']-data_dictionary[1]['fnr']) \n",
    "    "
   ]
  },
  {
   "cell_type": "code",
   "execution_count": 14,
   "id": "4454fce4",
   "metadata": {
    "scrolled": true
   },
   "outputs": [],
   "source": [
    "def accuracy_4(threshold, flag):\n",
    "    cons_type = 4 # FPR & FNR constraint \n",
    "    sensitive_attrs_to_cov_thresh = {\"race\": {0:{0:0, 1:0}, 1:{0:0, 1:threshold}, 2:{0:0, 1:threshold}}} # zero covariance threshold, means try to get the fairest solution\n",
    "    cons_params = {\"cons_type\": cons_type, \"tau\": tau, \"mu\": mu, \"sensitive_attrs_to_cov_thresh\": sensitive_attrs_to_cov_thresh}\n",
    "    w_cons, acc_cons, data_dictionary  = classifier(EPS,tau,mu,cons_params)\n",
    "    if flag == True:\n",
    "        print(\"Constraints on FNR & FPR\")\n",
    "        print(\"Accuracy:  \" + str(round(acc_cons,2)))\n",
    "        print(\"s     FPR.    FNR\")\n",
    "        for key in data_dictionary:\n",
    "            print(\"------------------------\")\n",
    "            print(str(key) + \"     \" + str(round(data_dictionary[key]['fpr'],2)) + \"    \" +str(round(data_dictionary[key]['fnr'],2)))\n",
    "        print()\n",
    "    \n",
    "    return acc_cons, abs(data_dictionary[0]['fpr']-data_dictionary[1]['fpr']) , abs(data_dictionary[0]['fnr']-data_dictionary[1]['fnr']) \n",
    "    "
   ]
  },
  {
   "cell_type": "code",
   "execution_count": 15,
   "id": "a51b2df7",
   "metadata": {
    "scrolled": true
   },
   "outputs": [],
   "source": [
    "import warnings\n",
    "warnings.filterwarnings(\"ignore\")"
   ]
  },
  {
   "cell_type": "code",
   "execution_count": 16,
   "id": "45efc227",
   "metadata": {},
   "outputs": [],
   "source": [
    "tau = 3.0\n",
    "mu = 1.5\n",
    "EPS = 1e-6"
   ]
  },
  {
   "cell_type": "code",
   "execution_count": 17,
   "id": "012d6d8f",
   "metadata": {},
   "outputs": [
    {
     "name": "stdout",
     "output_type": "stream",
     "text": [
      "Threshold is 0\n",
      "---------------------------------------------\n",
      "\n",
      "Unconstrained classifier\n",
      "Accuracy:  0.68\n",
      "s     FPR.    FNR\n",
      "------------------------\n",
      "0     0.38    0.27\n",
      "------------------------\n",
      "1     0.16    0.57\n",
      "\n",
      "Constraints on FPR\n",
      "Accuracy:  0.67\n",
      "s     FPR.    FNR\n",
      "------------------------\n",
      "0     0.27    0.39\n",
      "------------------------\n",
      "1     0.32    0.4\n",
      "\n",
      "Constraints on FNR\n",
      "Accuracy:  0.68\n",
      "s     FPR.    FNR\n",
      "------------------------\n",
      "0     0.28    0.37\n",
      "------------------------\n",
      "1     0.25    0.44\n",
      "\n",
      "Constraints on FNR & FPR\n",
      "Accuracy:  0.67\n",
      "s     FPR.    FNR\n",
      "------------------------\n",
      "0     0.24    0.4\n",
      "------------------------\n",
      "1     0.29    0.42\n",
      "\n",
      "\n"
     ]
    }
   ],
   "source": [
    "threshold = 0\n",
    "print(\"Threshold is \" + str(threshold))\n",
    "print(\"---------------------------------------------\")\n",
    "print()\n",
    "acc_cons, diff_fpr, diff_fnr = accuracy_1(threshold, True)\n",
    "acc_cons, diff_fpr, diff_fnr = accuracy_2(threshold, True)\n",
    "acc_cons, diff_fpr, diff_fnr = accuracy_3(threshold, True)\n",
    "acc_cons, diff_fpr, diff_fnr = accuracy_4(threshold, True)\n",
    "print()"
   ]
  },
  {
   "cell_type": "code",
   "execution_count": 18,
   "id": "af66c33d",
   "metadata": {},
   "outputs": [
    {
     "name": "stdout",
     "output_type": "stream",
     "text": [
      "Runtime of the code is  8.775829076766968 seconds\n"
     ]
    }
   ],
   "source": [
    "end_dm = time.time()\n",
    "runtime_dm = (end_dm-start_dm)\n",
    "print(\"Runtime of the code is  \" + str(runtime_dm) + ' seconds')"
   ]
  },
  {
   "cell_type": "markdown",
   "id": "fb935180",
   "metadata": {},
   "source": [
    "## Analysis on varying the 'c' constant"
   ]
  },
  {
   "cell_type": "code",
   "execution_count": 19,
   "id": "22cdc16c",
   "metadata": {
    "scrolled": false
   },
   "outputs": [
    {
     "name": "stdout",
     "output_type": "stream",
     "text": [
      "Threshold is 0.0\n",
      "---------------------------------------------\n",
      "\n",
      "Unconstrained classifier\n",
      "Accuracy:  0.68\n",
      "s     FPR.    FNR\n",
      "------------------------\n",
      "0     0.38    0.27\n",
      "------------------------\n",
      "1     0.16    0.57\n",
      "\n",
      "Constraints on FPR\n",
      "Accuracy:  0.67\n",
      "s     FPR.    FNR\n",
      "------------------------\n",
      "0     0.27    0.39\n",
      "------------------------\n",
      "1     0.32    0.4\n",
      "\n",
      "Constraints on FNR\n",
      "Accuracy:  0.68\n",
      "s     FPR.    FNR\n",
      "------------------------\n",
      "0     0.28    0.37\n",
      "------------------------\n",
      "1     0.25    0.44\n",
      "\n",
      "Constraints on FNR & FPR\n",
      "Accuracy:  0.67\n",
      "s     FPR.    FNR\n",
      "------------------------\n",
      "0     0.24    0.4\n",
      "------------------------\n",
      "1     0.29    0.42\n",
      "\n",
      "\n",
      "Threshold is 0.005\n",
      "---------------------------------------------\n",
      "\n",
      "Unconstrained classifier\n",
      "Accuracy:  0.67\n",
      "s     FPR.    FNR\n",
      "------------------------\n",
      "0     0.38    0.27\n",
      "------------------------\n",
      "1     0.17    0.57\n",
      "\n",
      "Constraints on FPR\n",
      "Accuracy:  0.67\n",
      "s     FPR.    FNR\n",
      "------------------------\n",
      "0     0.31    0.33\n",
      "------------------------\n",
      "1     0.33    0.38\n",
      "\n",
      "Constraints on FNR\n",
      "Accuracy:  0.67\n",
      "s     FPR.    FNR\n",
      "------------------------\n",
      "0     0.3    0.36\n",
      "------------------------\n",
      "1     0.25    0.45\n",
      "\n",
      "Constraints on FNR & FPR\n",
      "Accuracy:  0.67\n",
      "s     FPR.    FNR\n",
      "------------------------\n",
      "0     0.31    0.33\n",
      "------------------------\n",
      "1     0.33    0.37\n",
      "\n",
      "\n",
      "Threshold is 0.01\n",
      "---------------------------------------------\n",
      "\n",
      "Unconstrained classifier\n",
      "Accuracy:  0.67\n",
      "s     FPR.    FNR\n",
      "------------------------\n",
      "0     0.38    0.27\n",
      "------------------------\n",
      "1     0.17    0.57\n",
      "\n",
      "Constraints on FPR\n",
      "Accuracy:  0.67\n",
      "s     FPR.    FNR\n",
      "------------------------\n",
      "0     0.3    0.34\n",
      "------------------------\n",
      "1     0.3    0.4\n",
      "\n",
      "Constraints on FNR\n",
      "Accuracy:  0.67\n",
      "s     FPR.    FNR\n",
      "------------------------\n",
      "0     0.31    0.35\n",
      "------------------------\n",
      "1     0.24    0.46\n",
      "\n",
      "Constraints on FNR & FPR\n",
      "Accuracy:  0.67\n",
      "s     FPR.    FNR\n",
      "------------------------\n",
      "0     0.3    0.34\n",
      "------------------------\n",
      "1     0.3    0.4\n",
      "\n",
      "\n",
      "Threshold is 0.015\n",
      "---------------------------------------------\n",
      "\n",
      "Unconstrained classifier\n",
      "Accuracy:  0.67\n",
      "s     FPR.    FNR\n",
      "------------------------\n",
      "0     0.38    0.27\n",
      "------------------------\n",
      "1     0.17    0.57\n",
      "\n",
      "Constraints on FPR\n",
      "Accuracy:  0.67\n",
      "s     FPR.    FNR\n",
      "------------------------\n",
      "0     0.31    0.34\n",
      "------------------------\n",
      "1     0.28    0.42\n",
      "\n",
      "Constraints on FNR\n",
      "Accuracy:  0.67\n",
      "s     FPR.    FNR\n",
      "------------------------\n",
      "0     0.31    0.34\n",
      "------------------------\n",
      "1     0.23    0.47\n",
      "\n",
      "Constraints on FNR & FPR\n",
      "Accuracy:  0.67\n",
      "s     FPR.    FNR\n",
      "------------------------\n",
      "0     0.31    0.34\n",
      "------------------------\n",
      "1     0.28    0.42\n",
      "\n",
      "\n",
      "Threshold is 0.02\n",
      "---------------------------------------------\n",
      "\n",
      "Unconstrained classifier\n",
      "Accuracy:  0.67\n",
      "s     FPR.    FNR\n",
      "------------------------\n",
      "0     0.38    0.27\n",
      "------------------------\n",
      "1     0.17    0.57\n",
      "\n",
      "Constraints on FPR\n",
      "Accuracy:  0.68\n",
      "s     FPR.    FNR\n",
      "------------------------\n",
      "0     0.3    0.34\n",
      "------------------------\n",
      "1     0.25    0.45\n",
      "\n",
      "Constraints on FNR\n",
      "Accuracy:  0.67\n",
      "s     FPR.    FNR\n",
      "------------------------\n",
      "0     0.33    0.33\n",
      "------------------------\n",
      "1     0.22    0.48\n",
      "\n",
      "Constraints on FNR & FPR\n",
      "Accuracy:  0.68\n",
      "s     FPR.    FNR\n",
      "------------------------\n",
      "0     0.3    0.34\n",
      "------------------------\n",
      "1     0.25    0.45\n",
      "\n",
      "\n",
      "Threshold is 0.025\n",
      "---------------------------------------------\n",
      "\n",
      "Unconstrained classifier\n",
      "Accuracy:  0.67\n",
      "s     FPR.    FNR\n",
      "------------------------\n",
      "0     0.38    0.27\n",
      "------------------------\n",
      "1     0.17    0.57\n",
      "\n",
      "Constraints on FPR\n",
      "Accuracy:  0.68\n",
      "s     FPR.    FNR\n",
      "------------------------\n",
      "0     0.3    0.33\n",
      "------------------------\n",
      "1     0.23    0.47\n",
      "\n",
      "Constraints on FNR\n",
      "Accuracy:  0.68\n",
      "s     FPR.    FNR\n",
      "------------------------\n",
      "0     0.33    0.32\n",
      "------------------------\n",
      "1     0.2    0.5\n",
      "\n",
      "Constraints on FNR & FPR\n",
      "Accuracy:  0.68\n",
      "s     FPR.    FNR\n",
      "------------------------\n",
      "0     0.3    0.33\n",
      "------------------------\n",
      "1     0.23    0.47\n",
      "\n",
      "\n",
      "Threshold is 0.03\n",
      "---------------------------------------------\n",
      "\n",
      "Unconstrained classifier\n",
      "Accuracy:  0.67\n",
      "s     FPR.    FNR\n",
      "------------------------\n",
      "0     0.38    0.27\n",
      "------------------------\n",
      "1     0.17    0.57\n",
      "\n",
      "Constraints on FPR\n",
      "Accuracy:  0.68\n",
      "s     FPR.    FNR\n",
      "------------------------\n",
      "0     0.32    0.33\n",
      "------------------------\n",
      "1     0.21    0.51\n",
      "\n",
      "Constraints on FNR\n",
      "Accuracy:  0.68\n",
      "s     FPR.    FNR\n",
      "------------------------\n",
      "0     0.34    0.31\n",
      "------------------------\n",
      "1     0.2    0.5\n",
      "\n",
      "Constraints on FNR & FPR\n",
      "Accuracy:  0.68\n",
      "s     FPR.    FNR\n",
      "------------------------\n",
      "0     0.32    0.32\n",
      "------------------------\n",
      "1     0.21    0.51\n",
      "\n",
      "\n",
      "Threshold is 0.035\n",
      "---------------------------------------------\n",
      "\n",
      "Unconstrained classifier\n",
      "Accuracy:  0.67\n",
      "s     FPR.    FNR\n",
      "------------------------\n",
      "0     0.38    0.27\n",
      "------------------------\n",
      "1     0.17    0.57\n",
      "\n",
      "Constraints on FPR\n",
      "Accuracy:  0.68\n",
      "s     FPR.    FNR\n",
      "------------------------\n",
      "0     0.33    0.32\n",
      "------------------------\n",
      "1     0.19    0.53\n",
      "\n",
      "Constraints on FNR\n",
      "Accuracy:  0.68\n",
      "s     FPR.    FNR\n",
      "------------------------\n",
      "0     0.35    0.3\n",
      "------------------------\n",
      "1     0.2    0.51\n",
      "\n",
      "Constraints on FNR & FPR\n",
      "Accuracy:  0.68\n",
      "s     FPR.    FNR\n",
      "------------------------\n",
      "0     0.33    0.32\n",
      "------------------------\n",
      "1     0.19    0.53\n",
      "\n",
      "\n",
      "Threshold is 0.04\n",
      "---------------------------------------------\n",
      "\n",
      "Unconstrained classifier\n",
      "Accuracy:  0.67\n",
      "s     FPR.    FNR\n",
      "------------------------\n",
      "0     0.38    0.27\n",
      "------------------------\n",
      "1     0.17    0.57\n",
      "\n",
      "Constraints on FPR\n",
      "Accuracy:  0.68\n",
      "s     FPR.    FNR\n",
      "------------------------\n",
      "0     0.34    0.32\n",
      "------------------------\n",
      "1     0.18    0.55\n",
      "\n",
      "Constraints on FNR\n",
      "Accuracy:  0.68\n",
      "s     FPR.    FNR\n",
      "------------------------\n",
      "0     0.36    0.29\n",
      "------------------------\n",
      "1     0.19    0.53\n",
      "\n",
      "Constraints on FNR & FPR\n",
      "Accuracy:  0.68\n",
      "s     FPR.    FNR\n",
      "------------------------\n",
      "0     0.34    0.31\n",
      "------------------------\n",
      "1     0.19    0.54\n",
      "\n",
      "\n",
      "Threshold is 0.045\n",
      "---------------------------------------------\n",
      "\n",
      "Unconstrained classifier\n",
      "Accuracy:  0.67\n",
      "s     FPR.    FNR\n",
      "------------------------\n",
      "0     0.38    0.27\n",
      "------------------------\n",
      "1     0.17    0.57\n",
      "\n",
      "Constraints on FPR\n",
      "Accuracy:  0.68\n",
      "s     FPR.    FNR\n",
      "------------------------\n",
      "0     0.36    0.29\n",
      "------------------------\n",
      "1     0.17    0.56\n",
      "\n",
      "Constraints on FNR\n",
      "Accuracy:  0.68\n",
      "s     FPR.    FNR\n",
      "------------------------\n",
      "0     0.38    0.27\n",
      "------------------------\n",
      "1     0.18    0.55\n",
      "\n",
      "Constraints on FNR & FPR\n",
      "Accuracy:  0.68\n",
      "s     FPR.    FNR\n",
      "------------------------\n",
      "0     0.36    0.29\n",
      "------------------------\n",
      "1     0.18    0.55\n",
      "\n",
      "\n"
     ]
    }
   ],
   "source": [
    "for threshold in range(0, 50, 5):\n",
    "    threshold = threshold/1000\n",
    "    print(\"Threshold is \" + str(threshold))\n",
    "    print(\"---------------------------------------------\")\n",
    "    print()\n",
    "    acc_cons, diff_fpr, diff_fnr = accuracy_1(threshold, True)\n",
    "    acc_cons, diff_fpr, diff_fnr = accuracy_2(threshold, True)\n",
    "    acc_cons, diff_fpr, diff_fnr = accuracy_3(threshold, True)\n",
    "    acc_cons, diff_fpr, diff_fnr = accuracy_4(threshold, True)\n",
    "    print()"
   ]
  },
  {
   "cell_type": "markdown",
   "id": "48bdf2b3",
   "metadata": {},
   "source": [
    "### Constraints on FPR"
   ]
  },
  {
   "cell_type": "code",
   "execution_count": 20,
   "id": "b2004fb6",
   "metadata": {},
   "outputs": [],
   "source": [
    "accuracy_dictionary = {}\n",
    "diff_fpr_dictionary = {}\n",
    "diff_fnr_dictionary = {}\n",
    "\n",
    "for threshold in range(0, 50, 5):\n",
    "    \n",
    "    threshold = threshold/1000\n",
    "    \n",
    "    acc_cons, diff_fpr, diff_fnr = accuracy_2(threshold, False)\n",
    "    diff_fpr_dictionary[threshold] = diff_fpr\n",
    "    diff_fnr_dictionary[threshold] = diff_fnr\n",
    "    accuracy_dictionary[threshold] = acc_cons"
   ]
  },
  {
   "cell_type": "code",
   "execution_count": 21,
   "id": "6da579a9",
   "metadata": {},
   "outputs": [
    {
     "name": "stdout",
     "output_type": "stream",
     "text": [
      "Accuracy Plot vs Threshold\n"
     ]
    },
    {
     "data": {
      "image/png": "[encoded data removed]",
      "text/plain": [
       "<Figure size 864x576 with 1 Axes>"
      ]
     },
     "metadata": {
      "needs_background": "light"
     },
     "output_type": "display_data"
    }
   ],
   "source": [
    "print(\"Accuracy Plot vs Threshold\")\n",
    "lists = sorted(accuracy_dictionary.items()) # sorted by key, return a list of tuples\n",
    "plt.figure(figsize=(12, 8))\n",
    "x, y = zip(*lists) # unpack a list of pairs into two tuples\n",
    "plt.plot(x, y)\n",
    "plt.show()"
   ]
  },
  {
   "cell_type": "code",
   "execution_count": 22,
   "id": "5d44f722",
   "metadata": {},
   "outputs": [
    {
     "name": "stdout",
     "output_type": "stream",
     "text": [
      "Differnce between FPR in Sensitive Variables Plot vs Threshold\n"
     ]
    },
    {
     "data": {
      "image/png": "[encoded data removed]",
      "text/plain": [
       "<Figure size 864x576 with 1 Axes>"
      ]
     },
     "metadata": {
      "needs_background": "light"
     },
     "output_type": "display_data"
    }
   ],
   "source": [
    "print(\"Differnce between FPR in Sensitive Variables Plot vs Threshold\")\n",
    "lists = sorted(diff_fpr_dictionary.items()) # sorted by key, return a list of tuples\n",
    "plt.figure(figsize=(12, 8))\n",
    "x, y = zip(*lists) # unpack a list of pairs into two tuples\n",
    "plt.plot(x, y)\n",
    "plt.show()"
   ]
  },
  {
   "cell_type": "code",
   "execution_count": 23,
   "id": "5ddf2180",
   "metadata": {},
   "outputs": [
    {
     "name": "stdout",
     "output_type": "stream",
     "text": [
      "Differnce between FNR in Sensitive Variables Plot vs Threshold\n"
     ]
    },
    {
     "data": {
      "image/png": "[encoded data removed]",
      "text/plain": [
       "<Figure size 864x576 with 1 Axes>"
      ]
     },
     "metadata": {
      "needs_background": "light"
     },
     "output_type": "display_data"
    }
   ],
   "source": [
    "print(\"Differnce between FNR in Sensitive Variables Plot vs Threshold\")\n",
    "lists = sorted(diff_fnr_dictionary.items()) # sorted by key, return a list of tuples\n",
    "plt.figure(figsize=(12, 8))\n",
    "x, y = zip(*lists) # unpack a list of pairs into two tuples\n",
    "plt.plot(x, y)\n",
    "plt.show()"
   ]
  },
  {
   "cell_type": "markdown",
   "id": "fa6eb5dd",
   "metadata": {},
   "source": [
    "### Constraints on FNR"
   ]
  },
  {
   "cell_type": "code",
   "execution_count": 24,
   "id": "fdb17985",
   "metadata": {},
   "outputs": [],
   "source": [
    "accuracy_dictionary = {}\n",
    "diff_fpr_dictionary = {}\n",
    "diff_fnr_dictionary = {}\n",
    "\n",
    "for threshold in range(0, 50, 5):\n",
    "    \n",
    "    threshold = threshold/1000\n",
    "    \n",
    "    acc_cons, diff_fpr, diff_fnr = accuracy_3(threshold, False)\n",
    "    diff_fpr_dictionary[threshold] = diff_fpr\n",
    "    diff_fnr_dictionary[threshold] = diff_fnr\n",
    "    accuracy_dictionary[threshold] = acc_cons"
   ]
  },
  {
   "cell_type": "code",
   "execution_count": 25,
   "id": "38cb2b77",
   "metadata": {},
   "outputs": [
    {
     "name": "stdout",
     "output_type": "stream",
     "text": [
      "Accuracy Plot vs Threshold\n"
     ]
    },
    {
     "data": {
      "image/png": "[encoded data removed]",
      "text/plain": [
       "<Figure size 864x576 with 1 Axes>"
      ]
     },
     "metadata": {
      "needs_background": "light"
     },
     "output_type": "display_data"
    }
   ],
   "source": [
    "print(\"Accuracy Plot vs Threshold\")\n",
    "lists = sorted(accuracy_dictionary.items()) # sorted by key, return a list of tuples\n",
    "plt.figure(figsize=(12, 8))\n",
    "x, y = zip(*lists) # unpack a list of pairs into two tuples\n",
    "plt.plot(x, y)\n",
    "plt.show()"
   ]
  },
  {
   "cell_type": "code",
   "execution_count": 26,
   "id": "532fca66",
   "metadata": {},
   "outputs": [
    {
     "name": "stdout",
     "output_type": "stream",
     "text": [
      "Differnce between FPR in Sensitive Variables Plot vs Threshold\n"
     ]
    },
    {
     "data": {
      "image/png": "[encoded data removed]",
      "text/plain": [
       "<Figure size 864x576 with 1 Axes>"
      ]
     },
     "metadata": {
      "needs_background": "light"
     },
     "output_type": "display_data"
    }
   ],
   "source": [
    "print(\"Differnce between FPR in Sensitive Variables Plot vs Threshold\")\n",
    "lists = sorted(diff_fpr_dictionary.items()) # sorted by key, return a list of tuples\n",
    "plt.figure(figsize=(12, 8))\n",
    "x, y = zip(*lists) # unpack a list of pairs into two tuples\n",
    "plt.plot(x, y)\n",
    "plt.show()"
   ]
  },
  {
   "cell_type": "code",
   "execution_count": 27,
   "id": "51d2bf40",
   "metadata": {},
   "outputs": [
    {
     "name": "stdout",
     "output_type": "stream",
     "text": [
      "Differnce between FNR in Sensitive Variables Plot vs Threshold\n"
     ]
    },
    {
     "data": {
      "image/png": "[encoded data removed]",
      "text/plain": [
       "<Figure size 864x576 with 1 Axes>"
      ]
     },
     "metadata": {
      "needs_background": "light"
     },
     "output_type": "display_data"
    }
   ],
   "source": [
    "print(\"Differnce between FNR in Sensitive Variables Plot vs Threshold\")\n",
    "lists = sorted(diff_fnr_dictionary.items()) # sorted by key, return a list of tuples\n",
    "plt.figure(figsize=(12, 8))\n",
    "x, y = zip(*lists) # unpack a list of pairs into two tuples\n",
    "\n",
    "plt.plot(x, y)\n",
    "plt.show()"
   ]
  },
  {
   "cell_type": "markdown",
   "id": "a722566e",
   "metadata": {},
   "source": [
    "### Constraints on FPR and FNR"
   ]
  },
  {
   "cell_type": "code",
   "execution_count": 28,
   "id": "f3b3f812",
   "metadata": {},
   "outputs": [],
   "source": [
    "accuracy_dictionary = {}\n",
    "diff_fpr_dictionary = {}\n",
    "diff_fnr_dictionary = {}\n",
    "\n",
    "for threshold in range(0, 50, 5):\n",
    "    \n",
    "    threshold = threshold/1000\n",
    "    \n",
    "    acc_cons, diff_fpr, diff_fnr = accuracy_4(threshold, False)\n",
    "    diff_fpr_dictionary[threshold] = diff_fpr\n",
    "    diff_fnr_dictionary[threshold] = diff_fnr\n",
    "    accuracy_dictionary[threshold] = acc_cons"
   ]
  },
  {
   "cell_type": "code",
   "execution_count": 29,
   "id": "a1eed804",
   "metadata": {},
   "outputs": [
    {
     "name": "stdout",
     "output_type": "stream",
     "text": [
      "Accuracy Plot vs Threshold\n"
     ]
    },
    {
     "data": {
      "image/png": "[encoded data removed]",
      "text/plain": [
       "<Figure size 864x576 with 1 Axes>"
      ]
     },
     "metadata": {
      "needs_background": "light"
     },
     "output_type": "display_data"
    }
   ],
   "source": [
    "print(\"Accuracy Plot vs Threshold\")\n",
    "lists = sorted(accuracy_dictionary.items()) # sorted by key, return a list of tuples\n",
    "plt.figure(figsize=(12, 8))\n",
    "x, y = zip(*lists) # unpack a list of pairs into two tuples\n",
    "plt.plot(x, y)\n",
    "plt.show()"
   ]
  },
  {
   "cell_type": "code",
   "execution_count": 30,
   "id": "d486673a",
   "metadata": {},
   "outputs": [
    {
     "name": "stdout",
     "output_type": "stream",
     "text": [
      "Differnce between FPR in Sensitive Variables Plot vs Threshold\n"
     ]
    },
    {
     "data": {
      "image/png": "[encoded data removed]",
      "text/plain": [
       "<Figure size 864x576 with 1 Axes>"
      ]
     },
     "metadata": {
      "needs_background": "light"
     },
     "output_type": "display_data"
    }
   ],
   "source": [
    "print(\"Differnce between FPR in Sensitive Variables Plot vs Threshold\")\n",
    "lists = sorted(diff_fpr_dictionary.items()) # sorted by key, return a list of tuples\n",
    "plt.figure(figsize=(12, 8))\n",
    "x, y = zip(*lists) # unpack a list of pairs into two tuples\n",
    "plt.plot(x, y)\n",
    "plt.show()"
   ]
  },
  {
   "cell_type": "code",
   "execution_count": 31,
   "id": "d7a17259",
   "metadata": {},
   "outputs": [
    {
     "name": "stdout",
     "output_type": "stream",
     "text": [
      "Differnce between FNR in Sensitive Variables Plot vs Threshold\n"
     ]
    },
    {
     "data": {
      "image/png": "[encoded data removed]",
      "text/plain": [
       "<Figure size 864x576 with 1 Axes>"
      ]
     },
     "metadata": {
      "needs_background": "light"
     },
     "output_type": "display_data"
    }
   ],
   "source": [
    "print(\"Differnce between FNR in Sensitive Variables Plot vs Threshold\")\n",
    "lists = sorted(diff_fnr_dictionary.items()) # sorted by key, return a list of tuples\n",
    "plt.figure(figsize=(12, 8))\n",
    "x, y = zip(*lists) # unpack a list of pairs into two tuples\n",
    "plt.plot(x, y)\n",
    "plt.show()"
   ]
  }
 ],
 "metadata": {
  "kernelspec": {
   "display_name": "Python 3",
   "language": "python",
   "name": "python3"
  },
  "language_info": {
   "codemirror_mode": {
    "name": "ipython",
    "version": 3
   },
   "file_extension": ".py",
   "mimetype": "text/x-python",
   "name": "python",
   "nbconvert_exporter": "python",
   "pygments_lexer": "ipython3",
   "version": "3.8.8"
  }
 },
 "nbformat": 4,
 "nbformat_minor": 5
}
