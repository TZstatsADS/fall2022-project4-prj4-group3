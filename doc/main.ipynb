{
 "cells": [
  {
   "cell_type": "markdown",
   "id": "4Z4isZnMtJVS",
   "metadata": {
    "id": "4Z4isZnMtJVS"
   },
   "source": [
    "# PROJECT 4: GROUP 3\n"
   ]
  },
  {
   "cell_type": "markdown",
   "id": "eW8pVPPwtJII",
   "metadata": {
    "id": "eW8pVPPwtJII"
   },
   "source": [
    "# Paper A4: Fairness Beyond Disparate Treatment & Disparate Impact: Learning Classification without Disparate Mistreatment vs Paper A1: Learning Fair Representations"
   ]
  },
  {
   "cell_type": "markdown",
   "id": "HzgfRMiRtI9Y",
   "metadata": {
    "id": "HzgfRMiRtI9Y"
   },
   "source": [
    "The aim of the 2 papers is to formulate fairness as an optimization problem of finding a good representation of the\n",
    "data with two competing goals: to encode the\n",
    "data as well as possible, while simultaneously\n",
    "obfuscating any information about membership in the sensitive group."
   ]
  },
  {
   "cell_type": "markdown",
   "id": "4bRP2ByF8ZXA",
   "metadata": {
    "id": "4bRP2ByF8ZXA"
   },
   "source": [
    "\n",
    "Across the nation, judges, probation and parole officers are increasingly using algorithms to assess a criminal defendant’s likelihood of becoming a recidivist – a term used to describe criminals who re-offend. There are dozens of these risk assessment algorithms in use. Many states have built their own assessments, and several academics have written tools. "
   ]
  },
  {
   "cell_type": "markdown",
   "id": "86Q7Q3_LAWUI",
   "metadata": {
    "id": "86Q7Q3_LAWUI"
   },
   "source": [
    "The Northpointe’s tool, called COMPAS (which stands for Correctional Offender Management Profiling for Alternative Sanctions), found that black defendants were far more likely than white defendants to be incorrectly judged to be at a higher risk of recidivism, while white defendants were more likely than black defendants to be incorrectly flagged as low risk."
   ]
  },
  {
   "cell_type": "markdown",
   "id": "XUYMu5Z0Apxu",
   "metadata": {
    "id": "XUYMu5Z0Apxu"
   },
   "source": [
    "Hence we use the Compas scores of 2 years and try to find a good representation of accuracy along with fairness and check if there is a discrimination or not"
   ]
  },
  {
   "cell_type": "code",
   "execution_count": null,
   "id": "F094CGJVAkmC",
   "metadata": {
    "id": "F094CGJVAkmC"
   },
   "outputs": [],
   "source": []
  },
  {
   "cell_type": "code",
   "execution_count": null,
   "id": "3610c16b",
   "metadata": {
    "id": "3610c16b",
    "scrolled": true
   },
   "outputs": [],
   "source": [
    "import pandas as pd\n",
    "import numpy as np\n",
    "import pickle\n",
    "import scipy.optimize as optim\n",
    "from sklearn import preprocessing\n",
    "from sklearn.model_selection import train_test_split\n",
    "from sklearn import feature_extraction\n",
    "#from __future__ import division\n",
    "import os,sys\n",
    "import numpy as np\n",
    "from collections import defaultdict\n",
    "from random import seed, shuffle\n",
    "from collections import defaultdict\n",
    "from copy import deepcopy\n",
    "import numpy.core.multiarray\n",
    "import cvxpy as cvx\n",
    "import dccp\n",
    "from dccp.problem import is_dccp\n",
    "import traceback\n",
    "import matplotlib.pylab as plt\n",
    "import math\n",
    "import copy"
   ]
  },
  {
   "cell_type": "code",
   "execution_count": null,
   "id": "Tcci3XUfSPi_",
   "metadata": {
    "colab": {
     "base_uri": "https://localhost:8080/"
    },
    "id": "Tcci3XUfSPi_",
    "outputId": "d085c3bf-31cd-40d7-b363-f4ecaa40c9ba"
   },
   "outputs": [
    {
     "name": "stdout",
     "output_type": "stream",
     "text": [
      "Looking in indexes: https://pypi.org/simple, https://us-python.pkg.dev/colab-wheels/public/simple/\n",
      "Collecting dccp\n",
      "  Downloading dccp-1.0.4.tar.gz (8.0 kB)\n",
      "Requirement already satisfied: cvxpy>=0.3.5 in /usr/local/lib/python3.7/dist-packages (from dccp) (1.2.2)\n",
      "Requirement already satisfied: numpy>=1.15 in /usr/local/lib/python3.7/dist-packages (from cvxpy>=0.3.5->dccp) (1.21.6)\n",
      "Requirement already satisfied: ecos>=2 in /usr/local/lib/python3.7/dist-packages (from cvxpy>=0.3.5->dccp) (2.0.10)\n",
      "Requirement already satisfied: osqp>=0.4.1 in /usr/local/lib/python3.7/dist-packages (from cvxpy>=0.3.5->dccp) (0.6.2.post0)\n",
      "Requirement already satisfied: scs>=1.1.6 in /usr/local/lib/python3.7/dist-packages (from cvxpy>=0.3.5->dccp) (3.2.2)\n",
      "Requirement already satisfied: scipy>=1.1.0 in /usr/local/lib/python3.7/dist-packages (from cvxpy>=0.3.5->dccp) (1.7.3)\n",
      "Requirement already satisfied: qdldl in /usr/local/lib/python3.7/dist-packages (from osqp>=0.4.1->cvxpy>=0.3.5->dccp) (0.1.5.post2)\n",
      "Building wheels for collected packages: dccp\n",
      "  Building wheel for dccp (setup.py) ... \u001b[?25l\u001b[?25hdone\n",
      "  Created wheel for dccp: filename=dccp-1.0.4-py3-none-any.whl size=7386 sha256=518fa5a6964f826d958b50c8fef07c8ea8b36030bd539ba6297aea3950ad2eb9\n",
      "  Stored in directory: /root/.cache/pip/wheels/44/a0/2b/8944fc49959e6ae8cc9584719c236016c214a04baf6516e24d\n",
      "Successfully built dccp\n",
      "Installing collected packages: dccp\n",
      "Successfully installed dccp-1.0.4\n"
     ]
    }
   ],
   "source": [
    "!pip install dccp"
   ]
  },
  {
   "cell_type": "code",
   "execution_count": null,
   "id": "d805ea52",
   "metadata": {
    "id": "d805ea52",
    "scrolled": true
   },
   "outputs": [],
   "source": [
    "import time\n",
    "start_dm = time.time()"
   ]
  },
  {
   "cell_type": "code",
   "execution_count": null,
   "id": "959241b6",
   "metadata": {
    "id": "959241b6",
    "scrolled": true
   },
   "outputs": [],
   "source": [
    "#df = pd.read_csv('../data/compas-scores-two-years.csv')\n",
    "df = pd.read_csv('compas-scores-two-years.csv')\n",
    "df['length_of_stay']=df['c_jail_out'].apply(pd.to_datetime) - df['c_jail_in'].apply(pd.to_datetime)\n",
    "df['length_of_stay']=df['length_of_stay'].dt.days\n",
    "df['length_of_stay'] = df.length_of_stay.apply(lambda x:'greater than 100 days'  if x >100 else ('10-100 days' if x >10 else 'less than 10 days'))\n"
   ]
  },
  {
   "cell_type": "code",
   "execution_count": null,
   "id": "d4b78868",
   "metadata": {
    "id": "d4b78868",
    "scrolled": true
   },
   "outputs": [],
   "source": [
    "#Selecting features\n",
    "features = [\"age_cat\", \"race\", \"sex\", \"priors_count\", \"c_charge_degree\",\"length_of_stay\",\"decile_score\"] \n",
    "cont_feature = [\"priors_count\"] \n",
    "sensitive_attributes = [\"race\"]\n",
    "\n",
    "x_control = defaultdict(list)\n",
    "data=df.copy()\n",
    "\n",
    "# Data Filtering\n",
    "idx = np.where((data['days_b_screening_arrest']<=30) & (data['days_b_screening_arrest']>=-30)\n",
    " & (data['is_recid']!=-1) & (data['c_charge_degree']!=\"O\") & (data['score_text']!=\"N/A\") &\n",
    " ((data['race']==\"African-American\") |(data['race']==\"Caucasian\")))\n",
    "data=data.iloc[idx]\n",
    "\n",
    "\n",
    "# convert class label 0 to -1\n",
    "y = data['two_year_recid']\n",
    "y[y==0] = -1\n",
    "\n",
    "#adding intercept\n",
    "intercept = np.ones(data.shape[0]).reshape(data.shape[0], 1)\n",
    "X=pd.DataFrame(intercept, columns=['intercept'])\n",
    "\n",
    "\n",
    "feature_names = []\n",
    "for attr in features:\n",
    "    vals = data[attr]\n",
    "    if attr in cont_feature:\n",
    "        vals = [float(v) for v in vals]\n",
    "        vals = preprocessing.scale(vals) #makes it into a 0 mean and variance 1\n",
    "        vals = np.reshape(vals, (len(y), -1))\n",
    "      \n",
    "    else: \n",
    "        lb = preprocessing.LabelBinarizer()\n",
    "        lb.fit(vals)\n",
    "        vals = lb.transform(vals)\n",
    "\n",
    "   \n",
    "# Creating list called feature_names which contains column names\n",
    "    # Checking continuous features\n",
    "    if attr in cont_feature: \n",
    "        feature_names.append(attr)\n",
    "    #Checking categorical features\n",
    "    else: \n",
    "        # Binary features\n",
    "        if vals.shape[1] == 1: \n",
    "            feature_names.append(attr)\n",
    "        #Non Binary features - adding the names for every category\n",
    "        else:\n",
    "            for k in lb.classes_: \n",
    "                feature_names.append(attr + \"_\" + str(k))\n",
    "    \n",
    "    X[feature_names]=vals\n",
    "    feature_names=[]\n",
    "\n",
    "\n",
    "    \n",
    "# Splitting the data into train and test\n",
    "from sklearn.model_selection import train_test_split\n",
    "x_train, x_test, y_train, y_test = train_test_split(X, y, test_size=0.5, random_state=1,shuffle=True)\n",
    "x_control_train=x_train[sensitive_attributes]\n",
    "x_control_test =x_test[sensitive_attributes]\n",
    "feature_names= x_train.columns\n",
    "x_train,x_test, y_train, y_test,x_control_train,x_control_test=x_train.values,x_test.values, y_train.values, y_test.values,x_control_train.values,x_control_test.values#converting everything to an array\n",
    "\n",
    "#Making x_control_train and x_control_test into a dictionary \n",
    "x_control_train={sensitive_attributes[0]:x_control_train.flatten()}\n",
    "x_control_test={sensitive_attributes[0]:x_control_test.flatten()}\n"
   ]
  },
  {
   "cell_type": "code",
   "execution_count": null,
   "id": "Zlc6WqX-I8Ue",
   "metadata": {
    "id": "Zlc6WqX-I8Ue"
   },
   "outputs": [],
   "source": []
  },
  {
   "cell_type": "markdown",
   "id": "mk7KEk-lR2RA",
   "metadata": {
    "id": "mk7KEk-lR2RA"
   },
   "source": [
    "# PAPER 4 : Fairness Beyond Disparate Treatment & Disparate Impact: Learning Classification without Disparate Mistreatment"
   ]
  },
  {
   "cell_type": "markdown",
   "id": "qDHy025Xr21m",
   "metadata": {
    "id": "qDHy025Xr21m"
   },
   "source": [
    "The overall goal of this algorithm is to build a fair classifier. In pratical scenarios when we are building a predictive model, a lot of festures are sensitive like gender, race, religion which can lead to a biased model. One example can be creating a predictive model to predict salaries of individuals and gender is included in the model. To avoid this, we add constraints to the model when we are optimizing. Under an ideal scenario, while building any type of model, our aim is to minimize the loss function. To make the model fair, we add contraints to the model, i.e we minimize the loss function while also making sure the contraints are met. In this algorithm those constraints were FPR and FNR. We cannot directly add the FPR abd FNR contraints to optimization funtion because they make the optimization problem non convex which are difficult to solve. Therefore we use a substitute which is the  covariance between the users’ sensitive attributes and the signed distance between the fea- ture vectors of misclassified users and the classifier decision boundary. The result in the algorithm is that we can find a balance which balances accuracy and fairness"
   ]
  },
  {
   "cell_type": "code",
   "execution_count": null,
   "id": "39324c04",
   "metadata": {
    "id": "39324c04",
    "scrolled": true
   },
   "outputs": [],
   "source": [
    "def train_model(x, y, x_control, EPS, cons_params,tau, mu):\n",
    "\n",
    "    max_iters = 100 \n",
    "    max_iter_dccp = 50  \n",
    "\n",
    "    num_points, num_features = x.shape\n",
    "    w = cvx.Variable(num_features) \n",
    "    np.random.seed(0)\n",
    "    w.value = np.random.rand(x.shape[1])\n",
    "    loss = cvx.sum(  cvx.logistic( cvx.multiply(-y, x*w) )  ) / num_points # Using Logistic Classifier\n",
    "    \n",
    "    #loss =  cvx.sum(cvx.logistic(x @ w) - cvx.multiply(y, x @ w) )\n",
    "    constraints = []\n",
    "    if cons_params is not None: \n",
    " \n",
    "        for attribute in cons_params[\"sensitive_attrs_to_cov_thresh\"].keys():\n",
    "\n",
    "            attribute_list = x_control_train[attribute]\n",
    "\n",
    "            s_val_to_total = {param:{} for param in [0,1,2]} \n",
    "            s_val_to_avg = {param:{} for param in [0,1,2]}\n",
    "            cons_sum_dict = {param:{} for param in [0,1,2]} \n",
    "\n",
    "            for val in set(attribute_list):\n",
    "                s_val_to_total[0][val] = sum(x_control_train[attribute] == val)\n",
    "                s_val_to_total[1][val] = sum(np.logical_and(x_control_train[attribute] == val, y_train == -1)) \n",
    "                s_val_to_total[2][val] = sum(np.logical_and(x_control_train[attribute] == val, y_train == +1))\n",
    "\n",
    "\n",
    "            for param in [0,1,2]:\n",
    "                s_val_to_avg[param][0] = s_val_to_total[param][1] / float(s_val_to_total[param][0] + s_val_to_total[param][1]) \n",
    "                s_val_to_avg[param][1] = 1.0 - s_val_to_avg[param][0] \n",
    "\n",
    "\n",
    "            for v in set(attribute_list):\n",
    "\n",
    "                idx = x_control_train[attribute] == v                \n",
    "\n",
    "\n",
    "                #################################################################\n",
    "                # #DCCP constraints\n",
    "                dist_bound_prod = cvx.multiply(y_train[idx], x_train[idx] * w) # y.f(x)\n",
    "\n",
    "                cons_sum_dict[0][v] = cvx.sum( cvx.minimum(0, dist_bound_prod) ) * (s_val_to_avg[0][v] / len(x_train)) # avg misclassification distance from boundary\n",
    "                cons_sum_dict[1][v] = cvx.sum( cvx.minimum(0, cvx.multiply( (1 - y_train[idx])/2.0, dist_bound_prod) ) ) * (s_val_to_avg[1][v] / sum(y_train == -1)) # avg false positive distance from boundary (only operates on the ground truth neg dataset)\n",
    "                cons_sum_dict[2][v] = cvx.sum( cvx.minimum(0, cvx.multiply( (1 + y_train[idx])/2.0, dist_bound_prod) ) ) * (s_val_to_avg[2][v] / sum(y_train == +1)) # avg false negative distance from boundary\n",
    "                #################################################################\n",
    "\n",
    "\n",
    "            if cons_params[\"cons_type\"] == 4:\n",
    "                params = [1,2]\n",
    "            elif cons_params[\"cons_type\"] in [0,1,2]:\n",
    "                params = [cons_params[\"cons_type\"]]\n",
    "\n",
    "\n",
    "            #################################################################\n",
    "            for param in params:\n",
    "                threshold = abs(cons_params[\"sensitive_attrs_to_cov_thresh\"][attribute][param][1] - cons_params[\"sensitive_attrs_to_cov_thresh\"][attribute][param][0])\n",
    "                constraints.append( cons_sum_dict[param][1] <= cons_sum_dict[param][0]  + threshold )\n",
    "                constraints.append( cons_sum_dict[param][1] >= cons_sum_dict[param][0]  - threshold )\n",
    "\n",
    "            #################################################################\n",
    "        \n",
    "    if cons_params is not None:\n",
    "        if cons_params.get(\"take_initial_sol\") is None: # true by default\n",
    "            take_initial_sol = True\n",
    "        elif cons_params[\"take_initial_sol\"] == False:\n",
    "            take_initial_sol = False\n",
    "\n",
    "        if take_initial_sol == True: # get the initial solution\n",
    "            p = cvx.Problem(cvx.Minimize(loss), [])\n",
    "            p.solve()\n",
    "    prob = cvx.Problem(cvx.Minimize(loss), constraints)\n",
    "    \n",
    "    try:\n",
    "\n",
    "        prob.solve(method='dccp', tau=tau, mu=mu, tau_max=1e10,\n",
    "            solver='ECOS', verbose=False, \n",
    "            feastol=EPS, abstol=EPS, reltol=EPS,feastol_inacc=EPS, abstol_inacc=EPS, reltol_inacc=EPS,\n",
    "            max_iters=max_iters, max_iter=max_iter_dccp)\n",
    "\n",
    "\n",
    "    except:\n",
    "        traceback.print_exc()\n",
    "        sys.stdout.flush()\n",
    "        sys.exit(1)\n",
    "\n",
    "\n",
    "    # check that the fairness constraint is satisfied\n",
    "    for f_c in constraints:\n",
    "       # assert(f_c.value == True) # can comment this out if the solver fails too often, but make sure that the constraints are satisfied empirically. alternatively, consider increasing tau parameter\n",
    "        pass\n",
    "        \n",
    "\n",
    "    w = np.array(w.value).flatten() # flatten converts it to a 1d array\n",
    "    \n",
    "    return w\n"
   ]
  },
  {
   "cell_type": "code",
   "execution_count": null,
   "id": "af66d704",
   "metadata": {
    "id": "af66d704",
    "scrolled": true
   },
   "outputs": [],
   "source": [
    "def sensitive_features(y_true, y_pred, x_control, sensitive_attributes, flag ):\n",
    "\n",
    "    x_control_internal = deepcopy(x_control)\n",
    "\n",
    "    data_dictionary = {}\n",
    "    \n",
    "    s = sensitive_attributes[0]\n",
    "\n",
    "    s_vals = x_control_internal[s]\n",
    "    for s_type in set(s_vals):\n",
    "        data_dictionary[s_type] = {}\n",
    "        y_true_local = y_true[s_vals==s_type]\n",
    "        y_pred_local = y_pred[s_vals==s_type]\n",
    "\n",
    "        acc = float(sum(y_true_local==y_pred_local)) / len(y_true_local)\n",
    "\n",
    "        fp = sum(np.logical_and(y_true_local == -1.0, y_pred_local == +1.0))\n",
    "        fn = sum(np.logical_and(y_true_local == +1.0, y_pred_local == -1.0)) \n",
    "        tp = sum(np.logical_and(y_true_local == +1.0, y_pred_local == +1.0)) \n",
    "        tn = sum(np.logical_and(y_true_local == -1.0, y_pred_local == -1.0)) \n",
    "\n",
    "        all_neg = sum(y_true_local == -1.0)\n",
    "        all_pos = sum(y_true_local == +1.0)\n",
    "\n",
    "        fpr = float(fp) / float(fp + tn)\n",
    "        fnr = float(fn) / float(fn + tp)\n",
    "        tpr = float(tp) / float(tp + fn)\n",
    "        tnr = float(tn) / float(tn + fp)\n",
    "\n",
    "\n",
    "        data_dictionary[s_type][\"fp\"] = fp\n",
    "        data_dictionary[s_type][\"fn\"] = fn\n",
    "        data_dictionary[s_type][\"fpr\"] = fpr\n",
    "        data_dictionary[s_type][\"fnr\"] = fnr\n",
    "        data_dictionary[s_type][\"tpr\"] = tpr\n",
    "        data_dictionary[s_type][\"tnr\"] = tnr\n",
    "        data_dictionary[s_type][\"acc\"] = (tp + tn) / (tp + tn + fp + fn)\n",
    "        \n",
    "    return data_dictionary\n",
    "\n"
   ]
  },
  {
   "cell_type": "code",
   "execution_count": null,
   "id": "73de0793",
   "metadata": {
    "id": "73de0793",
    "scrolled": true
   },
   "outputs": [],
   "source": [
    "def check_accuracy(x_train, y_train, x_test, y_test, y_train_predicted, y_test_predicted):\n",
    "\n",
    "\n",
    "    correct_answers = (y_train_predicted == y_train).astype(int) \n",
    "    train_score = float(sum(correct_answers)) / float(len(correct_answers))\n",
    "    correct_answers_train = sum(correct_answers)\n",
    "    \n",
    "    \n",
    "    correct_answers = (y_test_predicted == y_test).astype(int)\n",
    "    test_score = float(sum(correct_answers)) / float(len(correct_answers))\n",
    "    correct_answers_test = sum(correct_answers)\n",
    "\n",
    "    return train_score, test_score, correct_answers_train, correct_answers_test\n"
   ]
  },
  {
   "cell_type": "code",
   "execution_count": null,
   "id": "f81a5485",
   "metadata": {
    "id": "f81a5485",
    "scrolled": true
   },
   "outputs": [],
   "source": [
    "def distance_boundary(w, x, s_attr_arr):\n",
    "\n",
    "    distances_boundary = np.zeros(x.shape[0])\n",
    "    if isinstance(w, dict): \n",
    "        for k in w.keys(): \n",
    "            d = np.dot(x, w[k])\n",
    "            distances_boundary[s_attr_arr == k] = d[s_attr_arr == k]\n",
    "    else: \n",
    "        distances_boundary = np.dot(x, w)\n",
    "    return distances_boundary\n"
   ]
  },
  {
   "cell_type": "code",
   "execution_count": null,
   "id": "acc87e17",
   "metadata": {
    "id": "acc87e17",
    "scrolled": true
   },
   "outputs": [],
   "source": [
    "def classification_stats(w, x_train, y_train, x_control_train, x_test, y_test, x_control_test, sensitive_attributes):\n",
    "\n",
    "    s_val = sensitive_attributes[0] \n",
    "\n",
    "    distances_boundary_train = distance_boundary(w, x_train, x_control_train[s_val])\n",
    "    distances_boundary_test = distance_boundary(w, x_test, x_control_test[s_val])\n",
    "\n",
    "    all_class_labels_assigned_train = np.sign(distances_boundary_train)\n",
    "    all_class_labels_assigned_test = np.sign(distances_boundary_test)\n",
    "\n",
    "    train_score, test_score, correct_answers_train, correct_answers_test = check_accuracy( x_train, y_train, x_test, y_test, all_class_labels_assigned_train, all_class_labels_assigned_test)\n",
    "\n",
    "    data_dictionary_train = sensitive_features(y_train, all_class_labels_assigned_train, x_control_train, sensitive_attributes, False)\n",
    "    \n",
    "    data_dictionary_test = sensitive_features(y_test, all_class_labels_assigned_test, x_control_test, sensitive_attributes, True)\n",
    "\n",
    "    return train_score, test_score, data_dictionary_train, data_dictionary_test\n",
    "\n"
   ]
  },
  {
   "cell_type": "code",
   "execution_count": null,
   "id": "858d8853",
   "metadata": {
    "id": "858d8853",
    "scrolled": true
   },
   "outputs": [],
   "source": [
    "def classifier(EPS,tau,mu,cons_params):\n",
    "    \n",
    "    w = train_model(x_train, y_train, x_control_train, EPS, cons_params,tau, mu)\n",
    "    \n",
    "    train_score, test_score, data_dictionary_train, data_dictionary_test = classification_stats(w, x_train, y_train, x_control_train, x_test, y_test, x_control_test, sensitive_attributes)\n",
    "    \n",
    "    return w, test_score, data_dictionary_test\n"
   ]
  },
  {
   "cell_type": "code",
   "execution_count": null,
   "id": "13e3f879",
   "metadata": {
    "id": "13e3f879",
    "scrolled": true
   },
   "outputs": [],
   "source": [
    "def accuracy_1(threshold, flag): \n",
    "    cons_type = 0 # No constraint \n",
    "    sensitive_attrs_to_cov_thresh = {\"race\": {0:{0:0, 1:threshold}, 1:{0:0, 1:0}, 2:{0:0, 1:0}}} # zero covariance threshold, means try to get the fairest solution\n",
    "    cons_params = {\"cons_type\": cons_type, \"tau\": tau, \"mu\": mu, \"sensitive_attrs_to_cov_thresh\": sensitive_attrs_to_cov_thresh}\n",
    "    w_uncons, acc_cons, data_dictionary = classifier(EPS,tau,mu,cons_params)\n",
    "    if flag == True:\n",
    "        print(\"Unconstrained classifier\")\n",
    "        print(\"Accuracy:  \" + str(round(acc_cons,4)))\n",
    "        print(\"s     FPR.    FNR.    TNR.    TPR.   Accuracy\")\n",
    "        for key in data_dictionary:\n",
    "            print(\"-----------------------------------------\")\n",
    "            print(str(key) + \"     \" + str(round(data_dictionary[key]['fpr'],2)) + \"    \" +str(round(data_dictionary[key]['fnr'],2)) + \"    \" +str(round(data_dictionary[key]['tnr'],2))+\n",
    "              \"    \" +str(round(data_dictionary[key]['tpr'],2))+ \"   \"+ str(data_dictionary[key]['acc']))\n",
    "            \n",
    "        print()\n",
    "    \n",
    "    return (acc_cons, abs(data_dictionary[0]['fpr']-data_dictionary[1]['fpr']) , \n",
    "    abs(data_dictionary[0]['fnr']-data_dictionary[1]['fnr']),data_dictionary[0]['acc'],data_dictionary[1]['acc'])\n",
    "    "
   ]
  },
  {
   "cell_type": "code",
   "execution_count": null,
   "id": "68db922c",
   "metadata": {
    "id": "68db922c",
    "scrolled": true
   },
   "outputs": [],
   "source": [
    "def accuracy_2(threshold, flag):\n",
    "    cons_type = 1 # FPR constraint\n",
    "    sensitive_attrs_to_cov_thresh = {\"race\": {0:{0:0, 1:0}, 1:{0:0, 1:threshold}, 2:{0:0, 1:0}}} # zero covariance threshold, means try to get the fairest solution\n",
    "    cons_params = {\"cons_type\": cons_type, \"tau\": tau, \"mu\": mu, \"sensitive_attrs_to_cov_thresh\": sensitive_attrs_to_cov_thresh}\n",
    "    w_cons, acc_cons, data_dictionary  = classifier(EPS,tau,mu,cons_params)\n",
    "    if flag == True:\n",
    "        print(\"FPR constraint classifier\")\n",
    "        print(\"Accuracy:  \" + str(round(acc_cons,4)))\n",
    "        print(\"s     FPR.    FNR.    TNR.    TPR.   Accuracy\")\n",
    "        for key in data_dictionary:\n",
    "            print(\"-----------------------------------------\")\n",
    "            print(str(key) + \"     \" + str(round(data_dictionary[key]['fpr'],2)) + \"    \" +str(round(data_dictionary[key]['fnr'],2)) + \"    \" +str(round(data_dictionary[key]['tnr'],2))+ \"    \" +str(round(data_dictionary[key]['tpr'],2))\n",
    "            + \"   \"+ str(data_dictionary[key]['acc']))\n",
    "        print()\n",
    "    #print(\"accuracy cons\",acc_cons)\n",
    "    return (acc_cons, abs(data_dictionary[0]['fpr']-data_dictionary[1]['fpr']) , \n",
    "    abs(data_dictionary[0]['fnr']-data_dictionary[1]['fnr']),data_dictionary[0]['acc'],data_dictionary[1]['acc'])\n",
    "    "
   ]
  },
  {
   "cell_type": "code",
   "execution_count": null,
   "id": "b46f1ba4",
   "metadata": {
    "id": "b46f1ba4",
    "scrolled": true
   },
   "outputs": [],
   "source": [
    "def accuracy_3(threshold, flag):\n",
    "    cons_type = 2 # FNR constraint \n",
    "    sensitive_attrs_to_cov_thresh = {\"race\": {0:{0:0, 1:0}, 1:{0:0, 1:0}, 2:{0:0, 1:threshold}}} # zero covariance threshold, means try to get the fairest solution\n",
    "    cons_params = {\"cons_type\": cons_type, \"tau\": tau, \"mu\": mu, \"sensitive_attrs_to_cov_thresh\": sensitive_attrs_to_cov_thresh}\n",
    "    w_cons, acc_cons, data_dictionary  = classifier(EPS,tau,mu,cons_params)\n",
    "    if flag == True:\n",
    "        print(\"FNR constraint classifier\")\n",
    "        print(\"Accuracy:  \" + str(round(acc_cons,4)))\n",
    "        print(\"s     FPR.    FNR.    TNR.    TPR.   Accuracy\")\n",
    "        for key in data_dictionary:\n",
    "            print(\"-----------------------------------------\")\n",
    "            print(str(key) + \"     \" + str(round(data_dictionary[key]['fpr'],2)) + \"    \" +str(round(data_dictionary[key]['fnr'],2)) + \"    \" +str(round(data_dictionary[key]['tnr'],2))+\n",
    "              \"    \" +str(round(data_dictionary[key]['tpr'],2))+ \"   \"+ str(data_dictionary[key]['acc']))\n",
    "            \n",
    "            print()\n",
    "    \n",
    "    return (acc_cons, abs(data_dictionary[0]['fpr']-data_dictionary[1]['fpr']) , \n",
    "    abs(data_dictionary[0]['fnr']-data_dictionary[1]['fnr']),data_dictionary[0]['acc'],data_dictionary[1]['acc'])\n",
    "    "
   ]
  },
  {
   "cell_type": "code",
   "execution_count": null,
   "id": "4454fce4",
   "metadata": {
    "id": "4454fce4",
    "scrolled": true
   },
   "outputs": [],
   "source": [
    "def accuracy_4(threshold, flag):\n",
    "    cons_type = 4 # FPR & FNR constraint \n",
    "    sensitive_attrs_to_cov_thresh = {\"race\": {0:{0:0, 1:0}, 1:{0:0, 1:threshold}, 2:{0:0, 1:threshold}}} # zero covariance threshold, means try to get the fairest solution\n",
    "    cons_params = {\"cons_type\": cons_type, \"tau\": tau, \"mu\": mu, \"sensitive_attrs_to_cov_thresh\": sensitive_attrs_to_cov_thresh}\n",
    "    w_cons, acc_cons, data_dictionary  = classifier(EPS,tau,mu,cons_params)\n",
    "    if flag == True:\n",
    "        print(\"FPR & FNR constraint classifier\")\n",
    "        print(\"Accuracy:  \" + str(round(acc_cons,4)))\n",
    "        print(\"s     FPR.    FNR.    TNR.    TPR.   Accuracy\")\n",
    "        for key in data_dictionary:\n",
    "            print(\"-----------------------------------------\")\n",
    "            print(str(key) + \"     \" + str(round(data_dictionary[key]['fpr'],2)) + \"    \" +str(round(data_dictionary[key]['fnr'],2)) + \"    \" +str(round(data_dictionary[key]['tnr'],2))+\n",
    "              \"    \" +str(round(data_dictionary[key]['tpr'],2))+ \"   \"+ str(data_dictionary[key]['acc']))\n",
    "            \n",
    "            print()\n",
    "    \n",
    "    return (acc_cons, abs(data_dictionary[0]['fpr']-data_dictionary[1]['fpr']) , \n",
    "    abs(data_dictionary[0]['fnr']-data_dictionary[1]['fnr']),data_dictionary[0]['acc'],data_dictionary[1]['acc'])\n",
    "    "
   ]
  },
  {
   "cell_type": "code",
   "execution_count": null,
   "id": "BP3iQhYP6srU",
   "metadata": {
    "id": "BP3iQhYP6srU"
   },
   "outputs": [],
   "source": []
  },
  {
   "cell_type": "code",
   "execution_count": null,
   "id": "a51b2df7",
   "metadata": {
    "id": "a51b2df7",
    "scrolled": true
   },
   "outputs": [],
   "source": [
    "import warnings\n",
    "warnings.filterwarnings(\"ignore\")"
   ]
  },
  {
   "cell_type": "code",
   "execution_count": null,
   "id": "45efc227",
   "metadata": {
    "id": "45efc227"
   },
   "outputs": [],
   "source": [
    "tau = 3.0\n",
    "mu = 1.5\n",
    "EPS = 1e-6"
   ]
  },
  {
   "cell_type": "code",
   "execution_count": null,
   "id": "28cdc2d1",
   "metadata": {
    "colab": {
     "base_uri": "https://localhost:8080/"
    },
    "id": "28cdc2d1",
    "outputId": "b70a6a06-468e-4e67-f3cd-ceaf958d2c89"
   },
   "outputs": [
    {
     "name": "stdout",
     "output_type": "stream",
     "text": [
      "Threshold is 0\n",
      "-----------------------------------------------------------------------------------------------\n",
      "\n",
      "Unconstrained classifier\n",
      "Accuracy:  0.676\n",
      "s     FPR.    FNR.    TNR.    TPR.   Accuracy\n",
      "-----------------------------------------\n",
      "0     0.38    0.27    0.62    0.73   0.6719643992371265\n",
      "-----------------------------------------\n",
      "1     0.16    0.57    0.84    0.43   0.6819887429643527\n",
      "\n",
      "FPR constraint classifier\n",
      "Accuracy:  0.6669\n",
      "s     FPR.    FNR.    TNR.    TPR.   Accuracy\n",
      "-----------------------------------------\n",
      "0     0.27    0.39    0.73    0.61   0.6757787666878576\n",
      "-----------------------------------------\n",
      "1     0.32    0.4    0.68    0.6   0.6538461538461539\n",
      "\n",
      "FNR constraint classifier\n",
      "Accuracy:  0.6756\n",
      "s     FPR.    FNR.    TNR.    TPR.   Accuracy\n",
      "-----------------------------------------\n",
      "0     0.28    0.37    0.72    0.63   0.6745073108709473\n",
      "\n",
      "-----------------------------------------\n",
      "1     0.25    0.44    0.75    0.56   0.6772983114446529\n",
      "\n",
      "FPR & FNR constraint classifier\n",
      "Accuracy:  0.6707\n",
      "s     FPR.    FNR.    TNR.    TPR.   Accuracy\n",
      "-----------------------------------------\n",
      "0     0.24    0.4    0.76    0.6   0.6776859504132231\n",
      "\n",
      "-----------------------------------------\n",
      "1     0.29    0.42    0.71    0.58   0.6604127579737336\n",
      "\n",
      "\n"
     ]
    }
   ],
   "source": [
    "threshold = 0\n",
    "print(\"Threshold is \" + str(threshold))\n",
    "print(\"-----------------------------------------------------------------------------------------------\")\n",
    "print()\n",
    "acc_cons, diff_fpr, diff_fnr,acc_w,acc_b = accuracy_1(threshold, True)\n",
    "acc_cons, diff_fpr, diff_fnr,acc_w,acc_b = accuracy_2(threshold, True)\n",
    "acc_cons, diff_fpr, diff_fnr,acc_w,acc_b = accuracy_3(threshold, True)\n",
    "acc_cons, diff_fpr, diff_fnr,acc_w,acc_b = accuracy_4(threshold, True)\n",
    "print()"
   ]
  },
  {
   "cell_type": "code",
   "execution_count": null,
   "id": "d6a8e4e6",
   "metadata": {
    "colab": {
     "base_uri": "https://localhost:8080/"
    },
    "id": "d6a8e4e6",
    "outputId": "63ae6564-214b-4578-d5aa-7694ddc62aad"
   },
   "outputs": [
    {
     "name": "stdout",
     "output_type": "stream",
     "text": [
      "Runtime of the code is  113.56461477279663 seconds\n"
     ]
    }
   ],
   "source": [
    "end_dm = time.time()\n",
    "runtime_dm = (end_dm-start_dm)\n",
    "print(\"Runtime of the code is  \" + str(runtime_dm) + ' seconds')"
   ]
  },
  {
   "cell_type": "code",
   "execution_count": null,
   "id": "4bxdZOcLfH6o",
   "metadata": {
    "colab": {
     "base_uri": "https://localhost:8080/"
    },
    "id": "4bxdZOcLfH6o",
    "outputId": "91512b47-1beb-49a8-c455-0782f9ede436"
   },
   "outputs": [
    {
     "data": {
      "text/plain": [
       "0.6819887429643527"
      ]
     },
     "execution_count": 203,
     "metadata": {},
     "output_type": "execute_result"
    }
   ],
   "source": [
    "tau = 3.0\n",
    "mu = 1.5\n",
    "EPS = 1e-6\n",
    "cons_type7 = 0 # No constraint \n",
    "sensitive_attrs_to_cov_thresh7 = {\"race\": {0:{0:0, 1:threshold}, 1:{0:0, 1:0}, 2:{0:0, 1:0}}} # zero covariance threshold, means try to get the fairest solution\n",
    "cons_params7 = {\"cons_type\": cons_type7, \"tau\": tau, \"mu\": mu, \"sensitive_attrs_to_cov_thresh\": sensitive_attrs_to_cov_thresh7}\n",
    "w_uncons7, acc_cons7, data_dictionary7 = classifier(EPS,tau,mu,cons_params7)\n",
    "data_dictionary7[1]['acc']\n",
    "  "
   ]
  },
  {
   "cell_type": "markdown",
   "id": "4ebe0dda",
   "metadata": {
    "id": "4ebe0dda"
   },
   "source": [
    "## Analysis on varying the 'c' constant"
   ]
  },
  {
   "cell_type": "code",
   "execution_count": null,
   "id": "22cdc16c",
   "metadata": {
    "colab": {
     "base_uri": "https://localhost:8080/"
    },
    "id": "22cdc16c",
    "outputId": "6447afb1-4630-4022-a058-ca0095ee58a2",
    "scrolled": false
   },
   "outputs": [
    {
     "name": "stdout",
     "output_type": "stream",
     "text": [
      "Threshold is 0.0\n",
      "-----------------------------------------------------------------------------------------------\n",
      "\n",
      "Unconstrained classifier\n",
      "Accuracy:  0.676\n",
      "s     FPR.    FNR.    TNR.    TPR.   Accuracy\n",
      "-----------------------------------------\n",
      "0     0.38    0.27    0.62    0.73   0.6719643992371265\n",
      "-----------------------------------------\n",
      "1     0.16    0.57    0.84    0.43   0.6819887429643527\n",
      "\n",
      "FPR constraint classifier\n",
      "Accuracy:  0.6669\n",
      "s     FPR.    FNR.    TNR.    TPR.   Accuracy\n",
      "-----------------------------------------\n",
      "0     0.27    0.39    0.73    0.61   0.6757787666878576\n",
      "-----------------------------------------\n",
      "1     0.32    0.4    0.68    0.6   0.6538461538461539\n",
      "\n",
      "FNR constraint classifier\n",
      "Accuracy:  0.6756\n",
      "s     FPR.    FNR.    TNR.    TPR.   Accuracy\n",
      "-----------------------------------------\n",
      "0     0.28    0.37    0.72    0.63   0.6745073108709473\n",
      "\n",
      "-----------------------------------------\n",
      "1     0.25    0.44    0.75    0.56   0.6772983114446529\n",
      "\n",
      "FPR & FNR constraint classifier\n",
      "Accuracy:  0.6707\n",
      "s     FPR.    FNR.    TNR.    TPR.   Accuracy\n",
      "-----------------------------------------\n",
      "0     0.24    0.4    0.76    0.6   0.6776859504132231\n",
      "\n",
      "-----------------------------------------\n",
      "1     0.29    0.42    0.71    0.58   0.6604127579737336\n",
      "\n",
      "\n",
      "Threshold is 0.005\n",
      "-----------------------------------------------------------------------------------------------\n",
      "\n",
      "Unconstrained classifier\n",
      "Accuracy:  0.6745\n",
      "s     FPR.    FNR.    TNR.    TPR.   Accuracy\n",
      "-----------------------------------------\n",
      "0     0.38    0.27    0.62    0.73   0.6706929434202161\n",
      "-----------------------------------------\n",
      "1     0.17    0.57    0.83    0.43   0.6801125703564728\n",
      "\n",
      "FPR constraint classifier\n",
      "Accuracy:  0.6707\n",
      "s     FPR.    FNR.    TNR.    TPR.   Accuracy\n",
      "-----------------------------------------\n",
      "0     0.31    0.33    0.69    0.67   0.684043229497775\n",
      "-----------------------------------------\n",
      "1     0.33    0.38    0.67    0.62   0.651031894934334\n",
      "\n",
      "FNR constraint classifier\n",
      "Accuracy:  0.6722\n",
      "s     FPR.    FNR.    TNR.    TPR.   Accuracy\n",
      "-----------------------------------------\n",
      "0     0.3    0.36    0.7    0.64   0.6719643992371265\n",
      "\n",
      "-----------------------------------------\n",
      "1     0.25    0.45    0.75    0.55   0.6726078799249531\n",
      "\n",
      "FPR & FNR constraint classifier\n",
      "Accuracy:  0.6726\n",
      "s     FPR.    FNR.    TNR.    TPR.   Accuracy\n",
      "-----------------------------------------\n",
      "0     0.31    0.33    0.69    0.67   0.684043229497775\n",
      "\n",
      "-----------------------------------------\n",
      "1     0.33    0.37    0.67    0.63   0.6557223264540337\n",
      "\n",
      "\n",
      "Threshold is 0.01\n",
      "-----------------------------------------------------------------------------------------------\n",
      "\n",
      "Unconstrained classifier\n",
      "Accuracy:  0.6745\n",
      "s     FPR.    FNR.    TNR.    TPR.   Accuracy\n",
      "-----------------------------------------\n",
      "0     0.38    0.27    0.62    0.73   0.6706929434202161\n",
      "-----------------------------------------\n",
      "1     0.17    0.57    0.83    0.43   0.6801125703564728\n",
      "\n",
      "FPR constraint classifier\n",
      "Accuracy:  0.6715\n",
      "s     FPR.    FNR.    TNR.    TPR.   Accuracy\n",
      "-----------------------------------------\n",
      "0     0.3    0.34    0.7    0.66   0.677050222504768\n",
      "-----------------------------------------\n",
      "1     0.3    0.4    0.7    0.6   0.6632270168855535\n",
      "\n",
      "FNR constraint classifier\n",
      "Accuracy:  0.6745\n",
      "s     FPR.    FNR.    TNR.    TPR.   Accuracy\n",
      "-----------------------------------------\n",
      "0     0.31    0.35    0.69    0.65   0.673871582962492\n",
      "\n",
      "-----------------------------------------\n",
      "1     0.24    0.46    0.76    0.54   0.6754221388367729\n",
      "\n",
      "FPR & FNR constraint classifier\n",
      "Accuracy:  0.6715\n",
      "s     FPR.    FNR.    TNR.    TPR.   Accuracy\n",
      "-----------------------------------------\n",
      "0     0.3    0.34    0.7    0.66   0.677050222504768\n",
      "\n",
      "-----------------------------------------\n",
      "1     0.3    0.4    0.7    0.6   0.6632270168855535\n",
      "\n",
      "\n",
      "Threshold is 0.015\n",
      "-----------------------------------------------------------------------------------------------\n",
      "\n",
      "Unconstrained classifier\n",
      "Accuracy:  0.6745\n",
      "s     FPR.    FNR.    TNR.    TPR.   Accuracy\n",
      "-----------------------------------------\n",
      "0     0.38    0.27    0.62    0.73   0.6706929434202161\n",
      "-----------------------------------------\n",
      "1     0.17    0.57    0.83    0.43   0.6801125703564728\n",
      "\n",
      "FPR constraint classifier\n",
      "Accuracy:  0.673\n",
      "s     FPR.    FNR.    TNR.    TPR.   Accuracy\n",
      "-----------------------------------------\n",
      "0     0.31    0.34    0.69    0.66   0.6776859504132231\n",
      "-----------------------------------------\n",
      "1     0.28    0.42    0.72    0.58   0.6660412757973734\n",
      "\n",
      "FNR constraint classifier\n",
      "Accuracy:  0.6749\n",
      "s     FPR.    FNR.    TNR.    TPR.   Accuracy\n",
      "-----------------------------------------\n",
      "0     0.31    0.34    0.69    0.66   0.673871582962492\n",
      "\n",
      "-----------------------------------------\n",
      "1     0.23    0.47    0.77    0.53   0.6763602251407129\n",
      "\n",
      "FPR & FNR constraint classifier\n",
      "Accuracy:  0.6726\n",
      "s     FPR.    FNR.    TNR.    TPR.   Accuracy\n",
      "-----------------------------------------\n",
      "0     0.31    0.34    0.69    0.66   0.677050222504768\n",
      "\n",
      "-----------------------------------------\n",
      "1     0.28    0.42    0.72    0.58   0.6660412757973734\n",
      "\n",
      "\n",
      "Threshold is 0.02\n",
      "-----------------------------------------------------------------------------------------------\n",
      "\n",
      "Unconstrained classifier\n",
      "Accuracy:  0.6745\n",
      "s     FPR.    FNR.    TNR.    TPR.   Accuracy\n",
      "-----------------------------------------\n",
      "0     0.38    0.27    0.62    0.73   0.6706929434202161\n",
      "-----------------------------------------\n",
      "1     0.17    0.57    0.83    0.43   0.6801125703564728\n",
      "\n",
      "FPR constraint classifier\n",
      "Accuracy:  0.6756\n",
      "s     FPR.    FNR.    TNR.    TPR.   Accuracy\n",
      "-----------------------------------------\n",
      "0     0.3    0.34    0.69    0.66   0.6789574062301335\n",
      "-----------------------------------------\n",
      "1     0.25    0.45    0.75    0.55   0.6707317073170732\n",
      "\n",
      "FNR constraint classifier\n",
      "Accuracy:  0.6741\n",
      "s     FPR.    FNR.    TNR.    TPR.   Accuracy\n",
      "-----------------------------------------\n",
      "0     0.33    0.33    0.68    0.67   0.6713286713286714\n",
      "\n",
      "-----------------------------------------\n",
      "1     0.22    0.48    0.78    0.52   0.6782363977485929\n",
      "\n",
      "FPR & FNR constraint classifier\n",
      "Accuracy:  0.6756\n",
      "s     FPR.    FNR.    TNR.    TPR.   Accuracy\n",
      "-----------------------------------------\n",
      "0     0.3    0.34    0.69    0.66   0.6789574062301335\n",
      "\n",
      "-----------------------------------------\n",
      "1     0.25    0.45    0.75    0.55   0.6707317073170732\n",
      "\n",
      "\n",
      "Threshold is 0.025\n",
      "-----------------------------------------------------------------------------------------------\n",
      "\n",
      "Unconstrained classifier\n",
      "Accuracy:  0.6745\n",
      "s     FPR.    FNR.    TNR.    TPR.   Accuracy\n",
      "-----------------------------------------\n",
      "0     0.38    0.27    0.62    0.73   0.6706929434202161\n",
      "-----------------------------------------\n",
      "1     0.17    0.57    0.83    0.43   0.6801125703564728\n",
      "\n",
      "FPR constraint classifier\n",
      "Accuracy:  0.6787\n",
      "s     FPR.    FNR.    TNR.    TPR.   Accuracy\n",
      "-----------------------------------------\n",
      "0     0.3    0.33    0.69    0.67   0.6815003178639543\n",
      "-----------------------------------------\n",
      "1     0.23    0.47    0.77    0.53   0.6744840525328331\n",
      "\n",
      "FNR constraint classifier\n",
      "Accuracy:  0.6772\n",
      "s     FPR.    FNR.    TNR.    TPR.   Accuracy\n",
      "-----------------------------------------\n",
      "0     0.33    0.32    0.67    0.68   0.6726001271455817\n",
      "\n",
      "-----------------------------------------\n",
      "1     0.2    0.5    0.8    0.5   0.6838649155722326\n",
      "\n",
      "FPR & FNR constraint classifier\n",
      "Accuracy:  0.6787\n",
      "s     FPR.    FNR.    TNR.    TPR.   Accuracy\n",
      "-----------------------------------------\n",
      "0     0.3    0.33    0.69    0.67   0.6815003178639543\n",
      "\n",
      "-----------------------------------------\n",
      "1     0.23    0.47    0.77    0.53   0.6744840525328331\n",
      "\n",
      "\n",
      "Threshold is 0.03\n",
      "-----------------------------------------------------------------------------------------------\n",
      "\n",
      "Unconstrained classifier\n",
      "Accuracy:  0.6745\n",
      "s     FPR.    FNR.    TNR.    TPR.   Accuracy\n",
      "-----------------------------------------\n",
      "0     0.38    0.27    0.62    0.73   0.6706929434202161\n",
      "-----------------------------------------\n",
      "1     0.17    0.57    0.83    0.43   0.6801125703564728\n",
      "\n",
      "FPR constraint classifier\n",
      "Accuracy:  0.6775\n",
      "s     FPR.    FNR.    TNR.    TPR.   Accuracy\n",
      "-----------------------------------------\n",
      "0     0.32    0.33    0.68    0.67   0.6789574062301335\n",
      "-----------------------------------------\n",
      "1     0.21    0.51    0.79    0.49   0.6754221388367729\n",
      "\n",
      "FNR constraint classifier\n",
      "Accuracy:  0.679\n",
      "s     FPR.    FNR.    TNR.    TPR.   Accuracy\n",
      "-----------------------------------------\n",
      "0     0.34    0.31    0.66    0.69   0.6745073108709473\n",
      "\n",
      "-----------------------------------------\n",
      "1     0.2    0.5    0.8    0.5   0.6857410881801126\n",
      "\n",
      "FPR & FNR constraint classifier\n",
      "Accuracy:  0.6772\n",
      "s     FPR.    FNR.    TNR.    TPR.   Accuracy\n",
      "-----------------------------------------\n",
      "0     0.32    0.32    0.68    0.68   0.6795931341385887\n",
      "\n",
      "-----------------------------------------\n",
      "1     0.21    0.51    0.79    0.49   0.6735459662288931\n",
      "\n",
      "\n",
      "Threshold is 0.035\n",
      "-----------------------------------------------------------------------------------------------\n",
      "\n",
      "Unconstrained classifier\n",
      "Accuracy:  0.6745\n",
      "s     FPR.    FNR.    TNR.    TPR.   Accuracy\n",
      "-----------------------------------------\n",
      "0     0.38    0.27    0.62    0.73   0.6706929434202161\n",
      "-----------------------------------------\n",
      "1     0.17    0.57    0.83    0.43   0.6801125703564728\n",
      "\n",
      "FPR constraint classifier\n",
      "Accuracy:  0.676\n",
      "s     FPR.    FNR.    TNR.    TPR.   Accuracy\n",
      "-----------------------------------------\n",
      "0     0.33    0.32    0.67    0.68   0.673871582962492\n",
      "-----------------------------------------\n",
      "1     0.19    0.53    0.81    0.47   0.6791744840525328\n",
      "\n",
      "FNR constraint classifier\n",
      "Accuracy:  0.6779\n",
      "s     FPR.    FNR.    TNR.    TPR.   Accuracy\n",
      "-----------------------------------------\n",
      "0     0.35    0.3    0.65    0.7   0.6745073108709473\n",
      "\n",
      "-----------------------------------------\n",
      "1     0.2    0.51    0.8    0.49   0.6829268292682927\n",
      "\n",
      "FPR & FNR constraint classifier\n",
      "Accuracy:  0.6768\n",
      "s     FPR.    FNR.    TNR.    TPR.   Accuracy\n",
      "-----------------------------------------\n",
      "0     0.33    0.32    0.67    0.68   0.673871582962492\n",
      "\n",
      "-----------------------------------------\n",
      "1     0.19    0.53    0.81    0.47   0.6810506566604128\n",
      "\n",
      "\n",
      "Threshold is 0.04\n",
      "-----------------------------------------------------------------------------------------------\n",
      "\n",
      "Unconstrained classifier\n",
      "Accuracy:  0.6745\n",
      "s     FPR.    FNR.    TNR.    TPR.   Accuracy\n",
      "-----------------------------------------\n",
      "0     0.38    0.27    0.62    0.73   0.6706929434202161\n",
      "-----------------------------------------\n",
      "1     0.17    0.57    0.83    0.43   0.6801125703564728\n",
      "\n",
      "FPR constraint classifier\n",
      "Accuracy:  0.6753\n",
      "s     FPR.    FNR.    TNR.    TPR.   Accuracy\n",
      "-----------------------------------------\n",
      "0     0.34    0.32    0.66    0.68   0.6726001271455817\n",
      "-----------------------------------------\n",
      "1     0.18    0.55    0.82    0.45   0.6791744840525328\n",
      "\n",
      "FNR constraint classifier\n",
      "Accuracy:  0.6775\n",
      "s     FPR.    FNR.    TNR.    TPR.   Accuracy\n",
      "-----------------------------------------\n",
      "0     0.36    0.29    0.64    0.71   0.677050222504768\n",
      "\n",
      "-----------------------------------------\n",
      "1     0.19    0.53    0.81    0.47   0.6782363977485929\n",
      "\n",
      "FPR & FNR constraint classifier\n",
      "Accuracy:  0.6753\n",
      "s     FPR.    FNR.    TNR.    TPR.   Accuracy\n",
      "-----------------------------------------\n",
      "0     0.34    0.31    0.66    0.69   0.6732358550540368\n",
      "\n",
      "-----------------------------------------\n",
      "1     0.19    0.54    0.81    0.46   0.6782363977485929\n",
      "\n",
      "\n",
      "Threshold is 0.045\n",
      "-----------------------------------------------------------------------------------------------\n",
      "\n",
      "Unconstrained classifier\n",
      "Accuracy:  0.6745\n",
      "s     FPR.    FNR.    TNR.    TPR.   Accuracy\n",
      "-----------------------------------------\n",
      "0     0.38    0.27    0.62    0.73   0.6706929434202161\n",
      "-----------------------------------------\n",
      "1     0.17    0.57    0.83    0.43   0.6801125703564728\n",
      "\n",
      "FPR constraint classifier\n",
      "Accuracy:  0.6783\n",
      "s     FPR.    FNR.    TNR.    TPR.   Accuracy\n",
      "-----------------------------------------\n",
      "0     0.36    0.29    0.64    0.71   0.677050222504768\n",
      "-----------------------------------------\n",
      "1     0.17    0.56    0.83    0.44   0.6801125703564728\n",
      "\n",
      "FNR constraint classifier\n",
      "Accuracy:  0.6756\n",
      "s     FPR.    FNR.    TNR.    TPR.   Accuracy\n",
      "-----------------------------------------\n",
      "0     0.38    0.27    0.62    0.73   0.673871582962492\n",
      "\n",
      "-----------------------------------------\n",
      "1     0.18    0.55    0.82    0.45   0.6782363977485929\n",
      "\n",
      "FPR & FNR constraint classifier\n",
      "Accuracy:  0.6775\n",
      "s     FPR.    FNR.    TNR.    TPR.   Accuracy\n",
      "-----------------------------------------\n",
      "0     0.36    0.29    0.64    0.71   0.677050222504768\n",
      "\n",
      "-----------------------------------------\n",
      "1     0.18    0.55    0.82    0.45   0.6782363977485929\n",
      "\n",
      "\n"
     ]
    }
   ],
   "source": [
    "for threshold in range(0, 50, 5):\n",
    "    threshold = threshold/1000\n",
    "    print(\"Threshold is \" + str(threshold))\n",
    "    print(\"-----------------------------------------------------------------------------------------------\")\n",
    "    print()\n",
    "    acc_cons, diff_fpr, diff_fnr,acc_w,acc_b = accuracy_1(threshold, True)\n",
    "    acc_cons, diff_fpr, diff_fnr,acc_w,acc_b = accuracy_2(threshold, True)\n",
    "    acc_cons, diff_fpr, diff_fnr,acc_w,acc_b = accuracy_3(threshold, True)\n",
    "    acc_cons, diff_fpr, diff_fnr,acc_w,acc_b = accuracy_4(threshold, True)\n",
    "    print()"
   ]
  },
  {
   "cell_type": "markdown",
   "id": "1yRXYFl6MMAL",
   "metadata": {
    "id": "1yRXYFl6MMAL"
   },
   "source": [
    "# PLOTS"
   ]
  },
  {
   "cell_type": "markdown",
   "id": "63be768e",
   "metadata": {
    "id": "63be768e"
   },
   "source": [
    "### Constraints on FPR"
   ]
  },
  {
   "cell_type": "code",
   "execution_count": null,
   "id": "7e700b02",
   "metadata": {
    "id": "7e700b02"
   },
   "outputs": [],
   "source": [
    "accuracy_dictionary = {}\n",
    "diff_fpr_dictionary = {}\n",
    "diff_fnr_dictionary = {}\n",
    "\n",
    "for threshold in range(0, 50, 5):\n",
    "    \n",
    "    threshold = threshold/1000\n",
    "    \n",
    "    acc_cons, diff_fpr, diff_fnr = accuracy_2(threshold, False)\n",
    "    diff_fpr_dictionary[threshold] = diff_fpr\n",
    "    diff_fnr_dictionary[threshold] = diff_fnr\n",
    "    accuracy_dictionary[threshold] = acc_cons"
   ]
  },
  {
   "cell_type": "code",
   "execution_count": null,
   "id": "aabfe005",
   "metadata": {
    "colab": {
     "base_uri": "https://localhost:8080/",
     "height": 562
    },
    "id": "aabfe005",
    "outputId": "d60a680e-4af6-439f-f2d1-7040588c2266"
   },
   "outputs": [
    {
     "name": "stdout",
     "output_type": "stream",
     "text": [
      "Constraints on FPR\n",
      "Accuracy Plot vs Threshold\n"
     ]
    },
    {
     "data": {
      "image/png": "[encoded data removed]",
      "text/plain": [
       "<Figure size 864x576 with 1 Axes>"
      ]
     },
     "metadata": {
      "needs_background": "light"
     },
     "output_type": "display_data"
    },
    {
     "name": "stdout",
     "output_type": "stream",
     "text": [
      "Differnce between FPR in Sensitive Variables Plot vs Threshold\n"
     ]
    },
    {
     "data": {
      "image/png": "[encoded data removed]",
      "text/plain": [
       "<Figure size 864x576 with 1 Axes>"
      ]
     },
     "metadata": {
      "needs_background": "light"
     },
     "output_type": "display_data"
    },
    {
     "name": "stdout",
     "output_type": "stream",
     "text": [
      "Differnce between FNR in Sensitive Variables Plot vs Threshold\n"
     ]
    },
    {
     "data": {
      "image/png": "[encoded data removed]",
      "text/plain": [
       "<Figure size 864x576 with 1 Axes>"
      ]
     },
     "metadata": {
      "needs_background": "light"
     },
     "output_type": "display_data"
    }
   ],
   "source": [
    "import seaborn as sns\n",
    "print(\"Constraints on FPR\")\n",
    "print(\"Accuracy Plot vs Threshold\")\n",
    "lists = sorted(accuracy_dictionary.items()) # sorted by key, return a list of tuples\n",
    "fig=plt.figure(figsize=(12, 8))\n",
    "\n",
    "\n",
    "x, y = zip(*lists) # unpack a list of pairs into two tuples\n",
    "plt.subplot( 3, 1,1)\n",
    "plt.plot(x, y)\n",
    "plt.grid()\n",
    "plt.show()\n",
    "\n",
    "print(\"Differnce between FPR in Sensitive Variables Plot vs Threshold\")\n",
    "lists = sorted(diff_fpr_dictionary.items()) # sorted by key, return a list of tuples\n",
    "plt.figure(figsize=(12, 8))\n",
    "x, y = zip(*lists) # unpack a list of pairs into two tuples\n",
    "plt.subplot(3, 1,2)\n",
    "plt.plot(x, y)\n",
    "plt.grid()\n",
    "plt.show()\n",
    "\n",
    "print(\"Differnce between FNR in Sensitive Variables Plot vs Threshold\")\n",
    "lists = sorted(diff_fnr_dictionary.items()) # sorted by key, return a list of tuples\n",
    "plt.figure(figsize=(12, 8))\n",
    "x, y = zip(*lists) # unpack a list of pairs into two tuples\n",
    "plt.subplot( 3,1, 3)\n",
    "plt.plot(x, y)\n",
    "plt.grid()\n",
    "plt.show()"
   ]
  },
  {
   "cell_type": "markdown",
   "id": "8oinHZt1pXJ3",
   "metadata": {
    "id": "8oinHZt1pXJ3"
   },
   "source": [
    "#### **Here we see that as threshold(unfairness)  rises the accuracy increases. With rise of unfairness the fpr and well as fnr increases**"
   ]
  },
  {
   "cell_type": "markdown",
   "id": "5888ad05",
   "metadata": {
    "id": "5888ad05"
   },
   "source": [
    "### Constraints on FNR"
   ]
  },
  {
   "cell_type": "code",
   "execution_count": null,
   "id": "3244a341",
   "metadata": {
    "id": "3244a341"
   },
   "outputs": [],
   "source": [
    "accuracy_dictionary = {}\n",
    "diff_fpr_dictionary = {}\n",
    "diff_fnr_dictionary = {}\n",
    "\n",
    "for threshold in range(0, 50, 5):\n",
    "    \n",
    "    threshold = threshold/1000\n",
    "    \n",
    "    acc_cons, diff_fpr, diff_fnr = accuracy_3(threshold, False)\n",
    "    diff_fpr_dictionary[threshold] = diff_fpr\n",
    "    diff_fnr_dictionary[threshold] = diff_fnr\n",
    "    accuracy_dictionary[threshold] = acc_cons"
   ]
  },
  {
   "cell_type": "code",
   "execution_count": null,
   "id": "882e7ba5",
   "metadata": {
    "colab": {
     "base_uri": "https://localhost:8080/",
     "height": 564
    },
    "id": "882e7ba5",
    "outputId": "a713d10b-2b78-428e-d57d-127ee2229c3f"
   },
   "outputs": [
    {
     "name": "stdout",
     "output_type": "stream",
     "text": [
      "Constraint of FNR\n",
      "Accuracy Plot vs Threshold\n"
     ]
    },
    {
     "data": {
      "image/png": "[encoded data removed]",
      "text/plain": [
       "<Figure size 864x576 with 1 Axes>"
      ]
     },
     "metadata": {
      "needs_background": "light"
     },
     "output_type": "display_data"
    },
    {
     "name": "stdout",
     "output_type": "stream",
     "text": [
      "Differnce between FPR in Sensitive Variables Plot vs Threshold\n"
     ]
    },
    {
     "data": {
      "image/png": "[encoded data removed]",
      "text/plain": [
       "<Figure size 864x576 with 1 Axes>"
      ]
     },
     "metadata": {
      "needs_background": "light"
     },
     "output_type": "display_data"
    },
    {
     "name": "stdout",
     "output_type": "stream",
     "text": [
      "Differnce between FNR in Sensitive Variables Plot vs Threshold\n"
     ]
    },
    {
     "data": {
      "image/png": "[encoded data removed]",
      "text/plain": [
       "<Figure size 864x576 with 1 Axes>"
      ]
     },
     "metadata": {
      "needs_background": "light"
     },
     "output_type": "display_data"
    }
   ],
   "source": [
    "print(\"Constraint of FNR\")\n",
    "print(\"Accuracy Plot vs Threshold\")\n",
    "lists = sorted(accuracy_dictionary.items()) # sorted by key, return a list of tuples\n",
    "plt.figure(figsize=(12, 8))\n",
    "x, y = zip(*lists) # unpack a list of pairs into two tuples\n",
    "plt.subplot( 3, 1,1)\n",
    "plt.plot(x, y)\n",
    "plt.grid()\n",
    "plt.show()\n",
    "\n",
    "print(\"Differnce between FPR in Sensitive Variables Plot vs Threshold\")\n",
    "lists = sorted(diff_fpr_dictionary.items()) # sorted by key, return a list of tuples\n",
    "plt.figure(figsize=(12, 8))\n",
    "x, y = zip(*lists) # unpack a list of pairs into two tuples\n",
    "plt.subplot(3, 1,2)\n",
    "plt.plot(x, y)\n",
    "plt.grid()\n",
    "plt.show()\n",
    "\n",
    "print(\"Differnce between FNR in Sensitive Variables Plot vs Threshold\")\n",
    "lists = sorted(diff_fnr_dictionary.items()) # sorted by key, return a list of tuples\n",
    "plt.figure(figsize=(12, 8))\n",
    "x, y = zip(*lists) # unpack a list of pairs into two tuples\n",
    "plt.subplot( 3,1, 3)\n",
    "plt.plot(x, y)\n",
    "plt.grid()\n",
    "plt.show()"
   ]
  },
  {
   "cell_type": "markdown",
   "id": "x1CGXrrYptkJ",
   "metadata": {
    "id": "x1CGXrrYptkJ"
   },
   "source": [
    "#### Here we see that as threshold(unfairness) rises the accuracy increases in first half but slightly decreases after threshold of 0.03. With rise of unfairness the fpr and well as fnr increases"
   ]
  },
  {
   "cell_type": "markdown",
   "id": "7b2b1946",
   "metadata": {
    "id": "7b2b1946"
   },
   "source": [
    "### Constraints on FPR and FNR"
   ]
  },
  {
   "cell_type": "code",
   "execution_count": null,
   "id": "ab835f3e",
   "metadata": {
    "id": "ab835f3e"
   },
   "outputs": [],
   "source": [
    "accuracy_dictionary = {}\n",
    "diff_fpr_dictionary = {}\n",
    "diff_fnr_dictionary = {}\n",
    "\n",
    "for threshold in range(0, 50, 5):\n",
    "    \n",
    "    threshold = threshold/1000\n",
    "    \n",
    "    acc_cons, diff_fpr, diff_fnr = accuracy_4(threshold, False)\n",
    "    diff_fpr_dictionary[threshold] = diff_fpr\n",
    "    diff_fnr_dictionary[threshold] = diff_fnr\n",
    "    accuracy_dictionary[threshold] = acc_cons"
   ]
  },
  {
   "cell_type": "code",
   "execution_count": null,
   "id": "b980530b",
   "metadata": {
    "colab": {
     "base_uri": "https://localhost:8080/",
     "height": 562
    },
    "id": "b980530b",
    "outputId": "010ba18a-6adb-4fcb-d39f-9b791a5aa2eb"
   },
   "outputs": [
    {
     "name": "stdout",
     "output_type": "stream",
     "text": [
      "Constraints of FNR and FPR\n",
      "Accuracy Plot vs Threshold\n"
     ]
    },
    {
     "data": {
      "image/png": "[encoded data removed]",
      "text/plain": [
       "<Figure size 864x576 with 1 Axes>"
      ]
     },
     "metadata": {
      "needs_background": "light"
     },
     "output_type": "display_data"
    },
    {
     "name": "stdout",
     "output_type": "stream",
     "text": [
      "Differnce between FPR in Sensitive Variables Plot vs Threshold\n"
     ]
    },
    {
     "data": {
      "image/png": "[encoded data removed]",
      "text/plain": [
       "<Figure size 864x576 with 1 Axes>"
      ]
     },
     "metadata": {
      "needs_background": "light"
     },
     "output_type": "display_data"
    },
    {
     "name": "stdout",
     "output_type": "stream",
     "text": [
      "Differnce between FNR in Sensitive Variables Plot vs Threshold\n"
     ]
    },
    {
     "data": {
      "image/png": "[encoded data removed]",
      "text/plain": [
       "<Figure size 864x576 with 1 Axes>"
      ]
     },
     "metadata": {
      "needs_background": "light"
     },
     "output_type": "display_data"
    }
   ],
   "source": [
    "print(\"Constraints of FNR and FPR\")\n",
    "print(\"Accuracy Plot vs Threshold\")\n",
    "lists = sorted(accuracy_dictionary.items()) # sorted by key, return a list of tuples\n",
    "plt.figure(figsize=(12, 8))\n",
    "x, y = zip(*lists) # unpack a list of pairs into two tuples\n",
    "plt.subplot( 3, 1,1)\n",
    "plt.plot(x, y)\n",
    "plt.grid()\n",
    "plt.show()\n",
    "\n",
    "print(\"Differnce between FPR in Sensitive Variables Plot vs Threshold\")\n",
    "lists = sorted(diff_fpr_dictionary.items()) # sorted by key, return a list of tuples\n",
    "plt.figure(figsize=(12, 8))\n",
    "x, y = zip(*lists) # unpack a list of pairs into two tuples\n",
    "plt.subplot(3, 1,2)\n",
    "plt.plot(x, y)\n",
    "plt.grid()\n",
    "plt.show()\n",
    "\n",
    "print(\"Differnce between FNR in Sensitive Variables Plot vs Threshold\")\n",
    "lists = sorted(diff_fnr_dictionary.items()) # sorted by key, return a list of tuples\n",
    "plt.figure(figsize=(12, 8))\n",
    "x, y = zip(*lists) # unpack a list of pairs into two tuples\n",
    "plt.subplot(3, 1,3)\n",
    "plt.plot(x, y)\n",
    "plt.grid()\n",
    "plt.show()"
   ]
  },
  {
   "cell_type": "markdown",
   "id": "hT1oFOVeqJhJ",
   "metadata": {
    "id": "hT1oFOVeqJhJ"
   },
   "source": [
    "#### **Here also we see that as threshold(unfairness)  rises the accuracy increases. With rise of unfairness the fpr and well as fnr increases**"
   ]
  },
  {
   "cell_type": "code",
   "execution_count": null,
   "id": "axitUoqBNBzU",
   "metadata": {
    "id": "axitUoqBNBzU"
   },
   "outputs": [],
   "source": []
  },
  {
   "cell_type": "markdown",
   "id": "oYUQwFqlSVQ3",
   "metadata": {
    "id": "oYUQwFqlSVQ3"
   },
   "source": [
    "# PAPER 1: Learning Fair Representations\n",
    "\n"
   ]
  },
  {
   "cell_type": "markdown",
   "id": "BwEGgHZgrgGb",
   "metadata": {
    "id": "BwEGgHZgrgGb"
   },
   "source": [
    "This is a feature selection algorithm. Given data of x’s, y and a sensitive variable (in the case of Compas, race), our goal was to calculate shapely values using observed conditional probabilities and the set structure of the data to estimate marginal accuracy and discrimination trade-off if a target variable is eliminated from the x matrix.\n",
    "\n",
    "To build the code we basically tried to translate the proofs in the appendix to code, and were able to successfully implement this algorithm.\n",
    "\n",
    "We ran this algorithm on a set of five candidate variables, and determined, on the basis of a high discrimination coefficient, we could likely remove priors_count from training sets.\n",
    "\n",
    "Following this prescription modeled a logistic regression problem on the edited data. We looked at train and test accuracy and found that Black and White accuracies were comparable, but African American test accuracies were about 3.5% lower than those of White group."
   ]
  },
  {
   "cell_type": "code",
   "execution_count": null,
   "id": "N72YdVgYp9Ie",
   "metadata": {
    "id": "N72YdVgYp9Ie"
   },
   "outputs": [],
   "source": [
    "#helper function testing environment::\n",
    "def helper_data_cleaning(x):\n",
    "    #This code subsets the dataframe to relevant fields for the purpose of this analysis\n",
    "    df = x[x['race'].isin(['African-American','Caucasian'])]\n",
    "    idx = np.where((df['days_b_screening_arrest']<=30) & (df['days_b_screening_arrest']>=-30) &\n",
    "                   (df['is_recid']!=-1) & (df['c_charge_degree']!=\"O\") & (df['score_text']!=\"N/A\") &\n",
    "                   ((df['race']==\"African-American\") |(df['race']==\"Caucasian\")))\n",
    "    df = df.iloc[idx]\n",
    "    df=df.filter(items=['raw_data', 'age', 'c_charge_degree', 'race', 'age_cat', 'score_text', 'sex', 'priors_count', \n",
    "                    'days_b_screening_arrest', 'decile_score', 'is_recid', 'two_year_recid', 'c_jail_in', 'c_jail_out'])\n",
    "    \n",
    "    return df\n",
    "\n",
    "def encoding_data(x):\n",
    "    \n",
    "    x['race'] = x['race'].apply(lambda x: 1 if x == \"Caucasian\" else 0)\n",
    "    #print(x['race'])\n",
    "    x['sex'] = x['sex'].apply(lambda x: 1 if x == \"Female\" else 0)\n",
    "    \n",
    "    df1 = x\n",
    "    df1['length_of_stay']=df1['c_jail_out'].apply(pd.to_datetime) - df1['c_jail_in'].apply(pd.to_datetime)\n",
    "    df1['length_of_stay']=df1['length_of_stay'].dt.days\n",
    "    df1['length_of_stay'] = df1.length_of_stay.apply(lambda x: 2  if x >100 else (1 if x >10 else 0))\n",
    "    df1['priors_count'] = df1['priors_count'].apply(lambda x: 0 if x == 0 else x)\n",
    "    df1['priors_count'] = df1['priors_count'].apply(lambda x: 1 if (1 <= x <= 3) else x)\n",
    "    df1['priors_count'] = df1['priors_count'].apply(lambda x: 2 if x > 3 else x)\n",
    "    # Label Encoding \n",
    "    #df1['race'] = df1['race'].apply(lambda x: 1 if x == 'Caucasian' else 0, axis = 0)\n",
    "    #df1['race'] = df1['race_2']\n",
    "    #df1.loc[df1.race=='Caucasian']=1\n",
    "    #df1.loc[df1.race=='African-American']=0\n",
    "\n",
    "    categorical_variables = ['c_charge_degree','sex','age_cat','score_text','length_of_stay','race']\n",
    "    for var in categorical_variables:\n",
    "        df1[var] = df1[var].astype('category').cat.codes\n",
    "    final_vars = ['sex','age_cat','race','priors_count','c_charge_degree','length_of_stay']\n",
    "    df1 = df1[final_vars]\n",
    "    y = x['two_year_recid']\n",
    "    return y,df1"
   ]
  },
  {
   "cell_type": "code",
   "execution_count": null,
   "id": "ICclFiupqFcn",
   "metadata": {
    "id": "ICclFiupqFcn"
   },
   "outputs": [],
   "source": [
    "#cleaning/prepping data\n",
    "df_1 = helper_data_cleaning(df)\n",
    "y, df_1 = encoding_data(df_1)"
   ]
  },
  {
   "cell_type": "code",
   "execution_count": null,
   "id": "jLN4aJScSXD6",
   "metadata": {
    "id": "jLN4aJScSXD6"
   },
   "outputs": [],
   "source": [
    "def unique_information_coef(x, y):\n",
    "    import itertools\n",
    "    nrow = x.shape[0]\n",
    "    x_shap = x.shape[1]\n",
    "    z = np.concatenate((x,y), axis=1)\n",
    "    \n",
    "    #unique combinations of possible encodings\n",
    "    unique_combo = []\n",
    "    for r in z.T:\n",
    "        unique_combo.append(np.unique(r).tolist())\n",
    "    \n",
    "    cartesian = list(itertools.product(*unique_combo))\n",
    "    \n",
    "    running_p = 0\n",
    "    \n",
    "    \n",
    "    for possible in cartesian:\n",
    "        #print(ff,\" \", possible)\n",
    "        mutual_ct, r_1_ct, r_2_ct = 0,0,0\n",
    "        mutual_ct = np.sum(np.all(possible == z, axis=1))\n",
    "        r_1_ct = np.sum(np.all(possible[:x_shap] == z[:,:x_shap], axis=1))\n",
    "        r_2_ct = np.sum(np.all(possible[x_shap:] == z[:,x_shap:], axis=1))\n",
    "        \n",
    "        #for row in z:\n",
    "            #checking if joint\n",
    "         #   if possible == row:\n",
    "          #      mutual_ct = mutual_ct+1 \n",
    "            #checking x\n",
    "           # if possible[:x_shap]== z[:x_shap]:\n",
    "            #    r_1_ct = r_1_ct +1\n",
    "            #checking y\n",
    "            #if possible[x_shap:]== z[x_shap:]:\n",
    "             #   r_2_ct = r_2_ct +1\n",
    "            \n",
    "        \n",
    "        #saving computation in the event there's a zero result\n",
    "        if (mutual_ct == 0 or r_1_ct == 0 or r_2_ct == 0):\n",
    "            intermed = 0\n",
    "        else:\n",
    "            mutual_p = mutual_ct/nrow\n",
    "            pr1 = r_1_ct/nrow\n",
    "            pr2 = r_2_ct/nrow\n",
    "            intermed = mutual_p * np.log(mutual_p / pr1) / pr1\n",
    "        running_p += abs(intermed)\n",
    "        \n",
    "        \n",
    "    return running_p\n",
    "\n",
    "def conditional_info_coef(x,y,c):\n",
    "    import itertools\n",
    "    nrow = x.shape[0]\n",
    "    x_shap = x.shape[1]\n",
    "    y_shap = y.shape[1]\n",
    "    #print(x.shape,y.shape,c.shape)\n",
    "    z = np.concatenate((y,x,c), axis=1)\n",
    "    \n",
    "    #unique combinations of possible encodings\n",
    "    unique_combo = []\n",
    "    for r in z.T:\n",
    "        unique_combo.append(np.unique(r).tolist())\n",
    "    \n",
    "    cartesian = list(itertools.product(*unique_combo))\n",
    "    \n",
    "    running_p = 0\n",
    "    \n",
    "    \n",
    "    for possible in cartesian:\n",
    "        \n",
    "        #print(ff,\" \", possible)\n",
    "        mutual_ct, r_1_ct, r_2_ct, r_cond = 0,0,0,0\n",
    "        mutual_ct = np.sum(np.all(possible == z, axis=1))\n",
    "        # r_1_ct = np.sum(np.all(possible[:1] == z[:,:1], axis=1))\n",
    "        # r_2_ct = np.sum(np.all(possible[1:-x_shap] == z[:,1:-x_shap], axis=1))\n",
    "        r_1_ct = np.sum(np.all(possible[:y_shap] == z[:,:y_shap], axis=1))\n",
    "        r_2_ct = np.sum(np.all(possible[y_shap:-x_shap] == z[:,y_shap:-x_shap], axis=1))\n",
    "        cond_ct_num = np.sum(np.where((possible[:y_shap] == z[:,:y_shap]).all(axis=1) & (possible[-x_shap:] == z[:,-x_shap:]).all(axis=1)))\n",
    "        cond_ct_den = np.sum(np.where((possible[-x_shap:] == z[:,-x_shap:]).all(axis=1)))\n",
    "        if cond_ct_den == 0:\n",
    "            r_cond = 0\n",
    "        else:\n",
    "            r_cond = cond_ct_num/cond_ct_den\n",
    "       \n",
    "            \n",
    "        \n",
    "        #saving computation in the event there's a zero result\n",
    "        if (mutual_ct == 0 or r_1_ct == 0 or r_2_ct == 0 or r_cond ==0):\n",
    "            intermed = 0\n",
    "        else:\n",
    "            mutual_p = mutual_ct/nrow\n",
    "            pr1 = r_1_ct/nrow\n",
    "            pr2 = r_2_ct/nrow\n",
    "            intermed = mutual_p * np.log(mutual_p / pr2) / r_cond\n",
    "    \n",
    "        running_p += abs(intermed)\n",
    "        \n",
    "        \n",
    "    return running_p\n",
    "\n",
    "def powerset(seq):\n",
    "    if len(seq) <= 1:\n",
    "        yield seq\n",
    "        yield []\n",
    "    else:\n",
    "        for item in powerset(seq[1:]):\n",
    "            yield [seq[0]]+item\n",
    "            yield item"
   ]
  },
  {
   "cell_type": "code",
   "execution_count": null,
   "id": "VNC3eFi3SZ2Y",
   "metadata": {
    "id": "VNC3eFi3SZ2Y"
   },
   "outputs": [],
   "source": [
    "def shapelydiscrimination(x,y):\n",
    "    \n",
    "    features = list(x.columns)\n",
    "    features = [ele for ele in features if ele != 'race'] #removing race from list of features over which we iterate\n",
    "    nfeat = len(features)\n",
    "    \n",
    "    shapely_coeff = []\n",
    "    \n",
    "    #identifying a feature sequentially to exclude from infoset calc\n",
    "    for i in range(nfeat):\n",
    "        \n",
    "        features_2 = features.copy()\n",
    "        rem = features_2.pop(i) #removing a feature i programmatically\n",
    "        pow_set = [elm for elm in powerset(features_2)] #generating powerset list of lists\n",
    "        \n",
    "        shapely_inter = 0 #for summing the shapelys\n",
    "        #now, iterating over the subsets\n",
    "        for subset in pow_set:\n",
    "            s_len = len(subset)\n",
    "            f_len = nfeat - 1 - len(subset)\n",
    "            \n",
    "            m_coefficient = math.factorial(s_len) * math.factorial(f_len) / math.factorial(nfeat) #coeff\n",
    "            \n",
    "            #inclusive discrimination metric\n",
    "            inc_sub = subset.copy()\n",
    "            inc_sub.append(rem)\n",
    "            \n",
    "            x_1 = np.array(x[inc_sub])\n",
    "            #print(\"x:\",)\n",
    "            protected_attribute = np.array(x['race']).reshape(-1,1)\n",
    "            #print(protected_attribute.shape)\n",
    "            y_1 = np.array(y).reshape(-1,1)\n",
    "            \n",
    "            info_in_ = np.concatenate((x_1,protected_attribute), axis = 1)\n",
    "            \n",
    "            incl_a = unique_information_coef(info_in_,y_1)\n",
    "            incl_b = unique_information_coef(x_1,protected_attribute)\n",
    "            incl_c = conditional_info_coef(x_1,protected_attribute,y_1)\n",
    "            \n",
    "            incl = incl_a * incl_b * incl_c\n",
    "            #call info right here\n",
    "            \n",
    "            #exclusive discrimination metric\n",
    "            x_2 = np.array(x[subset])\n",
    "            info_ex_ = np.concatenate((x_2,protected_attribute), axis = 1)\n",
    "            excl_a = unique_information_coef(info_ex_,y_1)\n",
    "            excl_b = unique_information_coef(x_2,protected_attribute)\n",
    "            excl_c = conditional_info_coef(x_2,protected_attribute,y_1)\n",
    "            excl = excl_a * excl_b * excl_c\n",
    "            \n",
    "            #call info right here\n",
    "            marginal_discrimination = incl-excl\n",
    "            #marginal = disc_incl - disc_excl\n",
    "            #shapley_coeff[i] = shapley_coeff[i] + coef * marginal\n",
    "            shapely_inter = shapely_inter + m_coefficient * marginal_discrimination\n",
    "        shapely_coeff.append(shapely_inter)\n",
    "       \n",
    "    return shapely_coeff\n",
    "\n",
    "def shapelyaccuracy(x,y):\n",
    "    features = list(x.columns)\n",
    "    features = [ele for ele in features if ele != 'race'] #removing race from list of features over which we iterate\n",
    "    nfeat = len(features)\n",
    "    \n",
    "    shapely_coeff = []\n",
    "    \n",
    "    #identifying a feature sequentially to exclude from infoset calc\n",
    "    for i in range(nfeat):\n",
    "        \n",
    "        features_2 = features.copy()\n",
    "        rem = features_2.pop(i) #removing a feature i programmatically\n",
    "        pow_set = [elm for elm in powerset(features_2)] #generating powerset list of lists\n",
    "        \n",
    "        shapely_inter = 0 #for summing the shapelys\n",
    "        #now, iterating over the subsets\n",
    "        for subset in pow_set:\n",
    "            s_len = len(subset)\n",
    "            f_len = nfeat - 1 - len(subset)\n",
    "            \n",
    "            m_coefficient = math.factorial(s_len) * math.factorial(f_len) / math.factorial(nfeat) #coeff\n",
    "            \n",
    "            #inclusive accuracy metric\n",
    "            inc_sub = subset.copy()\n",
    "            inc_sub.append(rem)\n",
    "            inc_sub_diff = list(set(features)-set(inc_sub))\n",
    "            x_1c = np.array(x[inc_sub_diff])\n",
    "            x_1 = np.array(x[inc_sub])\n",
    "           \n",
    "            protected_attribute = np.array(x['race']).reshape(-1,1)\n",
    "           \n",
    "            y_1 = np.array(y).reshape(-1,1)\n",
    "            \n",
    "            c = np.concatenate((x_1c,protected_attribute), axis = 1)\n",
    "            \n",
    "            #print( \"out2: \",get_conditional_info_coef(y_1,x_1,c))\n",
    "            accuracy_inclusive = conditional_info_coef(x_1,y_1,c)\n",
    "            #call info right here\n",
    "            \n",
    "            #exclusive accuracy metric\n",
    "            x_2 = np.array(x[subset])\n",
    "            excl_sub = features_2\n",
    "            excl_sub_diff = list(set(features_2)-set(subset))\n",
    "            x_2c = np.array(x[excl_sub_diff])\n",
    "            d = np.concatenate((x_2c,protected_attribute), axis = 1)\n",
    "            accuracy_exclusive = conditional_info_coef(x_2,y_1,d)\n",
    "            \n",
    "            #marginal accuracy by including\n",
    "            marginal_acc = accuracy_inclusive - accuracy_exclusive\n",
    "            shapely_inter = shapely_inter + m_coefficient * marginal_acc\n",
    "            \n",
    "        if shapely_inter> 0:\n",
    "            shapely_coeff.append(shapely_inter)\n",
    "    return shapely_coeff"
   ]
  },
  {
   "cell_type": "code",
   "execution_count": null,
   "id": "z_aJ6qJZTDlp",
   "metadata": {
    "colab": {
     "base_uri": "https://localhost:8080/"
    },
    "id": "z_aJ6qJZTDlp",
    "outputId": "729157d8-08bb-4bed-a9be-205f11c9eae6"
   },
   "outputs": [
    {
     "name": "stdout",
     "output_type": "stream",
     "text": [
      "26.75325107574463\n"
     ]
    }
   ],
   "source": [
    "import time\n",
    "start = time.time()\n",
    "accuracy = shapelyaccuracy(df_1,y)\n",
    "discrimination = shapelydiscrimination(df_1,y)\n",
    "end = time.time()\n",
    "print(end - start)"
   ]
  },
  {
   "cell_type": "code",
   "execution_count": null,
   "id": "XNtBiq8yB8fR",
   "metadata": {
    "colab": {
     "base_uri": "https://localhost:8080/"
    },
    "id": "XNtBiq8yB8fR",
    "outputId": "6ec85fd8-f7b5-4443-8803-21be7b124cc1"
   },
   "outputs": [
    {
     "name": "stdout",
     "output_type": "stream",
     "text": [
      "          variable  accuracy  discrimination\n",
      "0              sex  0.607707     5933.746182\n",
      "1          age_cat  0.892485     8871.607730\n",
      "2     priors_count  0.984446     9024.280430\n",
      "3  c_charge_degree  0.730598     7155.980280\n",
      "4   length_of_stay  0.668507     8352.821957\n",
      "['sex', 'age_cat', 'c_charge_degree', 'length_of_stay']\n"
     ]
    }
   ],
   "source": [
    "features = list(df_1.columns)\n",
    "features = [ele for ele in features if ele != 'race']\n",
    "acc_disc_pretty = pd.DataFrame(list(zip(features,accuracy,discrimination)))\n",
    "acc_disc_pretty.columns = ['variable','accuracy','discrimination']\n",
    "print(acc_disc_pretty)\n",
    "varlist_for_model = list(acc_disc_pretty['variable'])\n",
    "varlist_for_model.remove('priors_count')\n",
    "print(varlist_for_model)\n"
   ]
  },
  {
   "cell_type": "markdown",
   "id": "kcDhsgm7syxD",
   "metadata": {
    "id": "kcDhsgm7syxD"
   },
   "source": []
  },
  {
   "cell_type": "markdown",
   "id": "0fRi8PcGsvu6",
   "metadata": {
    "id": "0fRi8PcGsvu6"
   },
   "source": [
    "# Logistic regression"
   ]
  },
  {
   "cell_type": "markdown",
   "id": "xfiybtCJs15y",
   "metadata": {
    "id": "xfiybtCJs15y"
   },
   "source": [
    "We now remove variable with highest discrimination and are left with tolerble or unaviodable"
   ]
  },
  {
   "cell_type": "code",
   "execution_count": null,
   "id": "agBRDK-pCWtt",
   "metadata": {
    "id": "agBRDK-pCWtt"
   },
   "outputs": [],
   "source": [
    "from sklearn.linear_model import LogisticRegression\n",
    "from sklearn.model_selection import train_test_split\n",
    "from sklearn.metrics import accuracy_score\n",
    "from sklearn.metrics import confusion_matrix\n",
    "df_m = df_1[varlist_for_model]\n",
    "x_train, x_test, y_train, y_test = train_test_split(df_m, y, test_size=0.3, random_state=1,shuffle=True)\n",
    "model = LogisticRegression()\n",
    "model.fit(x_train,y_train)\n",
    "y_hat = model.predict(x_test)\n",
    "test_acc = accuracy_score(y_hat,y_test)\n",
    "y_hat_train = model.predict(x_train)\n",
    "train_acc = accuracy_score(y_hat_train,y_train)\n"
   ]
  },
  {
   "cell_type": "code",
   "execution_count": null,
   "id": "375khqtXCaOY",
   "metadata": {
    "id": "375khqtXCaOY"
   },
   "outputs": [],
   "source": [
    "x_train = pd.merge(x_train, df_1, left_index=True, right_index=True)\n",
    "x_train['pred'] = y_hat_train\n",
    "x_train['act'] = y_train\n",
    "x_test = pd.merge(x_test, df_1, left_index=True, right_index=True)\n",
    "x_test['pred'] = y_hat\n",
    "x_test['act'] = y_test"
   ]
  },
  {
   "cell_type": "code",
   "execution_count": null,
   "id": "Sn8DnkwhCm_N",
   "metadata": {
    "id": "Sn8DnkwhCm_N"
   },
   "outputs": [],
   "source": [
    "x_train_c = x_train[x_train['race'] == 1]\n",
    "x_test_c = x_test[x_test['race'] == 1]\n",
    "x_train_nc = x_train[x_train['race'] == 0]\n",
    "x_test_nc = x_test[x_test['race'] == 0]\n",
    "White_train_acc = accuracy_score(x_train_c['pred'],x_train_c['act'])\n",
    "Black_train_acc = accuracy_score(x_train_nc['pred'],x_train_nc['act'])\n",
    "white_test_acc = accuracy_score(x_test_c['pred'],x_test_c['act'])\n",
    "Black_test_acc = accuracy_score(x_test_nc['pred'],x_test_nc['act'])"
   ]
  },
  {
   "cell_type": "code",
   "execution_count": null,
   "id": "xwxZ9pX_CsUm",
   "metadata": {
    "colab": {
     "base_uri": "https://localhost:8080/"
    },
    "id": "xwxZ9pX_CsUm",
    "outputId": "e7bd6d96-005e-42ec-de52-9aa9a5007795"
   },
   "outputs": [
    {
     "name": "stdout",
     "output_type": "stream",
     "text": [
      "Race.          Train                      Test\n",
      "Overall.       0.5709258256632377       0.5555555555555556\n",
      "White(0)       0.5740868366643694       0.5782208588957055\n",
      "Black(1)       0.5688809629959876       0.5396995708154506\n"
     ]
    }
   ],
   "source": [
    "\n",
    "\n",
    "print(\"Race.          Train                      Test\")\n",
    "print(\"Overall.      \", train_acc,\"     \",test_acc)\n",
    "print(\"White(0)      \",White_train_acc,\"     \",white_test_acc)\n",
    "print(\"Black(1)      \",Black_train_acc,\"     \",Black_test_acc)"
   ]
  },
  {
   "cell_type": "code",
   "execution_count": null,
   "id": "W_GrlZR7CxPU",
   "metadata": {
    "colab": {
     "base_uri": "https://localhost:8080/"
    },
    "id": "W_GrlZR7CxPU",
    "outputId": "d0bf9868-261a-4181-c981-cea06b31f952"
   },
   "outputs": [
    {
     "name": "stdout",
     "output_type": "stream",
     "text": [
      "True Negative:  598  True Positive:  282  False Negative:  432 False Positive:  272\n",
      "------------------------------\n",
      "FPR                            FNR\n",
      "0.49097472924187724         0.41941747572815535\n"
     ]
    }
   ],
   "source": [
    "# Overall confusion matrix\n",
    "tn, fp, fn, tp = confusion_matrix(x_test['act'],x_test['pred']).ravel()\n",
    "print(\"True Negative: \",tn,\" True Positive: \",tp,\" False Negative: \", fn,\"False Positive: \",fp)\n",
    "print('------------------------------')\n",
    "print(\"FPR                            FNR\")\n",
    "print(fp/(fp+tp),'       ',fn/(fn+tn))"
   ]
  },
  {
   "cell_type": "code",
   "execution_count": null,
   "id": "aOKZRg8qC0vF",
   "metadata": {
    "colab": {
     "base_uri": "https://localhost:8080/"
    },
    "id": "aOKZRg8qC0vF",
    "outputId": "d5c5ba53-0e5a-411b-fc5c-4df7270d9dc2"
   },
   "outputs": [
    {
     "name": "stdout",
     "output_type": "stream",
     "text": [
      "Race.    FPR                            FNR\n",
      "None\n",
      "White(0)     0.5566037735849056         0.3568181818181818\n",
      "Black(1)     0.4502923976608187         0.4661016949152542\n"
     ]
    }
   ],
   "source": [
    "# Races confusion matrix\n",
    "# White\n",
    "w_tn, w_fp, w_fn, w_tp= confusion_matrix(x_test_c['act'],x_test_c['pred']).ravel()\n",
    "#Black\n",
    "b_tn, b_fp, b_fn, b_tp= confusion_matrix(x_test_nc['act'],x_test_nc['pred']).ravel()\n",
    "\n",
    "#Print\n",
    "print(print(\"Race.    FPR                            FNR\"))\n",
    "print(\"White(0)\",'   ',w_fp/(w_fp+w_tp),'       ',w_fn/(w_fn+w_tn))\n",
    "print(\"Black(1)\",'   ',b_fp/(b_fp+b_tp),'       ',b_fn/(b_fn+b_tn))"
   ]
  },
  {
   "cell_type": "code",
   "execution_count": null,
   "id": "LTOvleUCPz62",
   "metadata": {
    "id": "LTOvleUCPz62"
   },
   "outputs": [],
   "source": []
  },
  {
   "cell_type": "markdown",
   "id": "dRppQCFfQItr",
   "metadata": {
    "id": "dRppQCFfQItr"
   },
   "source": [
    "# COMPARISON BETWEEN THE 2 PAPERS"
   ]
  },
  {
   "cell_type": "markdown",
   "id": "gMBdsanXdQMs",
   "metadata": {
    "id": "gMBdsanXdQMs"
   },
   "source": [
    "From Paper A4"
   ]
  },
  {
   "cell_type": "code",
   "execution_count": null,
   "id": "9yH9ZLndQOi2",
   "metadata": {
    "colab": {
     "base_uri": "https://localhost:8080/"
    },
    "id": "9yH9ZLndQOi2",
    "outputId": "a21e6d47-e969-44c7-827b-86e12765c57c"
   },
   "outputs": [
    {
     "name": "stdout",
     "output_type": "stream",
     "text": [
      "Threshold is 0\n",
      "-----------------------------------------------------------------------------------------------\n",
      "\n",
      "Unconstrained classifier\n",
      "Accuracy:  0.676\n",
      "s     FPR.    FNR.    TNR.    TPR.   Accuracy\n",
      "-----------------------------------------\n",
      "0     0.38    0.27    0.62    0.73   0.6719643992371265\n",
      "-----------------------------------------\n",
      "1     0.16    0.57    0.84    0.43   0.6819887429643527\n",
      "\n",
      "FPR constraint classifier\n",
      "Accuracy:  0.6669\n",
      "s     FPR.    FNR.    TNR.    TPR.   Accuracy\n",
      "-----------------------------------------\n",
      "0     0.27    0.39    0.73    0.61   0.6757787666878576\n",
      "-----------------------------------------\n",
      "1     0.32    0.4    0.68    0.6   0.6538461538461539\n",
      "\n",
      "FNR constraint classifier\n",
      "Accuracy:  0.6756\n",
      "s     FPR.    FNR.    TNR.    TPR.   Accuracy\n",
      "-----------------------------------------\n",
      "0     0.28    0.37    0.72    0.63   0.6745073108709473\n",
      "\n",
      "-----------------------------------------\n",
      "1     0.25    0.44    0.75    0.56   0.6772983114446529\n",
      "\n",
      "FPR & FNR constraint classifier\n",
      "Accuracy:  0.6707\n",
      "s     FPR.    FNR.    TNR.    TPR.   Accuracy\n",
      "-----------------------------------------\n",
      "0     0.24    0.4    0.76    0.6   0.6776859504132231\n",
      "\n",
      "-----------------------------------------\n",
      "1     0.29    0.42    0.71    0.58   0.6604127579737336\n",
      "\n"
     ]
    }
   ],
   "source": [
    "\n",
    "threshold = 0\n",
    "print(\"Threshold is \" + str(threshold))\n",
    "print(\"-----------------------------------------------------------------------------------------------\")\n",
    "print()\n",
    "# Baseline\n",
    "acc_cons_bas, diff_fpr_bas, diff_fnr_bas, acc_w_bas,acc_b_bas = accuracy_1(threshold, True)\n",
    "# With constraint\n",
    "acc_cons_fpr, diff_fpr_fpr, diff_fnr_fpr, acc_w_fpr,acc_b_fpr= accuracy_2(threshold, True)\n",
    "acc_cons_fnr, diff_fpr_fnr, diff_fnr_fnr,acc_w_fnr,acc_b_fnr = accuracy_3(threshold, True)\n",
    "acc_cons_fpr_fnr, diff_fpr_fpr_fnr, diff_fnr_fpr_fnr,acc_w_fpr_fnr,acc_b_fpr_fnr = accuracy_4(threshold, True)"
   ]
  },
  {
   "cell_type": "markdown",
   "id": "SaquxW21tMyP",
   "metadata": {
    "id": "SaquxW21tMyP"
   },
   "source": [
    "## Callibration"
   ]
  },
  {
   "cell_type": "code",
   "execution_count": null,
   "id": "Vi2RnNqhh38T",
   "metadata": {
    "colab": {
     "base_uri": "https://localhost:8080/",
     "height": 299
    },
    "id": "Vi2RnNqhh38T",
    "outputId": "4a5d4678-749f-462e-faa0-84a0c9b90d24"
   },
   "outputs": [
    {
     "data": {
      "text/plain": [
       "Text(0.5, 1.0, 'Calibration')"
      ]
     },
     "execution_count": 224,
     "metadata": {},
     "output_type": "execute_result"
    },
    {
     "data": {
      "image/png": "[encoded data removed]",
      "text/plain": [
       "<Figure size 432x288 with 1 Axes>"
      ]
     },
     "metadata": {
      "needs_background": "light"
     },
     "output_type": "display_data"
    }
   ],
   "source": [
    "#  Callibration\n",
    "\n",
    "plt.bar(np.arange(5),[acc_b_bas-acc_w_bas,acc_b_fpr-acc_w_fpr,acc_b_fnr-acc_w_fnr,acc_b_fpr_fnr-acc_w_fpr_fnr,Black_test_acc-white_test_acc])\n",
    "plt.xticks(np.arange(5),['Baseline','frp_constr','fnr_const','fpr_fnr_constr','LFR'])\n",
    "plt.title(\"Calibration\")"
   ]
  },
  {
   "cell_type": "markdown",
   "id": "PqGaepgmtO43",
   "metadata": {
    "id": "PqGaepgmtO43"
   },
   "source": [
    "### Accuracy"
   ]
  },
  {
   "cell_type": "code",
   "execution_count": null,
   "id": "0OXNGWsCisyr",
   "metadata": {
    "colab": {
     "base_uri": "https://localhost:8080/",
     "height": 299
    },
    "id": "0OXNGWsCisyr",
    "outputId": "d2573ce3-0221-4231-8731-feb7d5eadc0a"
   },
   "outputs": [
    {
     "data": {
      "text/plain": [
       "Text(0.5, 1.0, 'Accuracy')"
      ]
     },
     "execution_count": 225,
     "metadata": {},
     "output_type": "execute_result"
    },
    {
     "data": {
      "image/png": "[encoded data removed]",
      "text/plain": [
       "<Figure size 432x288 with 1 Axes>"
      ]
     },
     "metadata": {
      "needs_background": "light"
     },
     "output_type": "display_data"
    }
   ],
   "source": [
    "# Accuracy\n",
    "plt.bar(np.arange(5),[acc_cons_bas,acc_cons_fpr,acc_cons_fpr,acc_cons_fpr_fnr,test_acc])\n",
    "plt.xticks(np.arange(5),['Baseline','frp_constr','fnr_const','fpr_fnr_constr','LFR'])\n",
    "plt.title(\"Accuracy\")"
   ]
  },
  {
   "cell_type": "code",
   "execution_count": null,
   "id": "605WFMeDmnX7",
   "metadata": {
    "colab": {
     "base_uri": "https://localhost:8080/",
     "height": 299
    },
    "id": "605WFMeDmnX7",
    "outputId": "e3cf59b4-68f7-49b5-9757-bec430df4b5b"
   },
   "outputs": [
    {
     "data": {
      "text/plain": [
       "Text(0.5, 1.0, 'FPR')"
      ]
     },
     "execution_count": 247,
     "metadata": {},
     "output_type": "execute_result"
    },
    {
     "data": {
      "image/png": "[encoded data removed]",
      "text/plain": [
       "<Figure size 432x288 with 1 Axes>"
      ]
     },
     "metadata": {
      "needs_background": "light"
     },
     "output_type": "display_data"
    }
   ],
   "source": [
    "# FPR\n",
    "plt.bar(np.arange(5),[diff_fpr_bas,diff_fpr_fpr,diff_fpr_fnr,diff_fpr_fpr_fnr,w_fn/(w_fn+w_tn)-b_fn/(b_fn+b_tn)])\n",
    "plt.xticks(np.arange(5),['Baseline','frp_constr','fnr_const','fpr_fnr_constr','LFR'])\n",
    "plt.title(\"FPR\").  # (black -white>)"
   ]
  },
  {
   "cell_type": "code",
   "execution_count": null,
   "id": "BLtOiP6T4jm2",
   "metadata": {
    "colab": {
     "base_uri": "https://localhost:8080/",
     "height": 299
    },
    "id": "BLtOiP6T4jm2",
    "outputId": "293ebbe2-8ac9-41f6-f133-bb1c330c4d46"
   },
   "outputs": [
    {
     "data": {
      "text/plain": [
       "Text(0.5, 1.0, 'FNR')"
      ]
     },
     "execution_count": 248,
     "metadata": {},
     "output_type": "execute_result"
    },
    {
     "data": {
      "image/png": "[encoded data removed]",
      "text/plain": [
       "<Figure size 432x288 with 1 Axes>"
      ]
     },
     "metadata": {
      "needs_background": "light"
     },
     "output_type": "display_data"
    }
   ],
   "source": [
    "# FNR\n",
    "plt.bar(np.arange(5),[diff_fnr_bas,diff_fnr_fpr,diff_fnr_fnr,diff_fnr_fpr_fnr,w_fp/(w_fp+w_tp)-b_fp/(b_fp+b_tp)])\n",
    "plt.xticks(np.arange(5),['Baseline','frp_constr','fnr_const','fpr_fnr_constr','LFR'])\n",
    "plt.title(\"FNR\")"
   ]
  },
  {
   "cell_type": "code",
   "execution_count": null,
   "id": "31xaMcBR4jbs",
   "metadata": {
    "id": "31xaMcBR4jbs"
   },
   "outputs": [],
   "source": []
  },
  {
   "cell_type": "code",
   "execution_count": null,
   "id": "pA38tt-j4jJ0",
   "metadata": {
    "id": "pA38tt-j4jJ0"
   },
   "outputs": [],
   "source": []
  },
  {
   "cell_type": "markdown",
   "id": "IuZoy-NltSKt",
   "metadata": {
    "id": "IuZoy-NltSKt"
   },
   "source": [
    "# CONCLUSION:\n",
    "1. We see that usually when unfairness rises accuracy increases. \n",
    "2. Paper A4 algorithms(Having fpr constraint,fnr constraint, fpr and fnr constraint) provides a better accuracy as well as better calibration than LFR algorithm<br>\n",
    "3. We see fpr and fnr is lesser than the baseline models"
   ]
  },
  {
   "cell_type": "code",
   "execution_count": null,
   "id": "qrPWdJd3tyby",
   "metadata": {
    "id": "qrPWdJd3tyby"
   },
   "outputs": [],
   "source": []
  },
  {
   "cell_type": "code",
   "execution_count": null,
   "id": "JorumjPK67CB",
   "metadata": {
    "id": "JorumjPK67CB"
   },
   "outputs": [],
   "source": []
  }
 ],
 "metadata": {
  "colab": {
   "collapsed_sections": [
    "4ebe0dda",
    "1yRXYFl6MMAL",
    "63be768e",
    "8oinHZt1pXJ3",
    "5888ad05",
    "x1CGXrrYptkJ",
    "7b2b1946",
    "hT1oFOVeqJhJ",
    "oYUQwFqlSVQ3",
    "0fRi8PcGsvu6"
   ],
   "provenance": []
  },
  "kernelspec": {
   "display_name": "Python 3 (ipykernel)",
   "language": "python",
   "name": "python3"
  },
  "language_info": {
   "codemirror_mode": {
    "name": "ipython",
    "version": 3
   },
   "file_extension": ".py",
   "mimetype": "text/x-python",
   "name": "python",
   "nbconvert_exporter": "python",
   "pygments_lexer": "ipython3",
   "version": "3.9.12"
  }
 },
 "nbformat": 4,
 "nbformat_minor": 5
}
